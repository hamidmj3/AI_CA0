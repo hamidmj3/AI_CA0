{
 "cells": [
  {
   "cell_type": "code",
   "execution_count": 14,
   "metadata": {},
   "outputs": [
    {
     "data": {
      "text/html": [
       "<style>.text_cell .rendered_html * {direction: rtl; text-align: right;}</style>\n"
      ],
      "text/plain": [
       "<IPython.core.display.HTML object>"
      ]
     },
     "metadata": {},
     "output_type": "display_data"
    }
   ],
   "source": [
    "%%html\n",
    "<style>.text_cell .rendered_html * {direction: rtl; text-align: right;}</style>"
   ]
  },
  {
   "cell_type": "code",
   "execution_count": 15,
   "metadata": {},
   "outputs": [],
   "source": [
    "import matplotlib\n",
    "import matplotlib.pyplot as plt\n",
    "import numpy as np\n",
    "import pandas as pd\n",
    "import time"
   ]
  },
  {
   "cell_type": "markdown",
   "metadata": {
    "direction": "rtl"
   },
   "source": [
    "head: اگر به آن مقداری داده نشود 5 داده ابتدایی فایل خوانده شده را نمایش میدهد.\n",
    "\n"
   ]
  },
  {
   "cell_type": "markdown",
   "metadata": {
    "direction": "rtl"
   },
   "source": [
    "tail: مانند head عمل میکند اما برای داده های انتهایی.\n"
   ]
  },
  {
   "cell_type": "markdown",
   "metadata": {
    "direction": "rtl"
   },
   "source": [
    "describe:دیدی از داده های هر ستون به ما میدهد و اطلاعات مفیدی مانند تعداد، حداکثر و حداقل و ....(در صورت عددی بودن آن ستون) به ما میدهد."
   ]
  },
  {
   "cell_type": "code",
   "execution_count": 16,
   "metadata": {},
   "outputs": [
    {
     "data": {
      "text/html": [
       "<div>\n",
       "<style scoped>\n",
       "    .dataframe tbody tr th:only-of-type {\n",
       "        vertical-align: middle;\n",
       "    }\n",
       "\n",
       "    .dataframe tbody tr th {\n",
       "        vertical-align: top;\n",
       "    }\n",
       "\n",
       "    .dataframe thead th {\n",
       "        text-align: right;\n",
       "    }\n",
       "</style>\n",
       "<table border=\"1\" class=\"dataframe\">\n",
       "  <thead>\n",
       "    <tr style=\"text-align: right;\">\n",
       "      <th></th>\n",
       "      <th>car_ID</th>\n",
       "      <th>CarName</th>\n",
       "      <th>fueltype</th>\n",
       "      <th>carlength</th>\n",
       "      <th>carwidth</th>\n",
       "      <th>carheight</th>\n",
       "      <th>curbweight</th>\n",
       "      <th>cylindernumber</th>\n",
       "      <th>enginesize</th>\n",
       "      <th>horsepower</th>\n",
       "      <th>citympg</th>\n",
       "      <th>highwaympg</th>\n",
       "      <th>price</th>\n",
       "    </tr>\n",
       "  </thead>\n",
       "  <tbody>\n",
       "    <tr>\n",
       "      <th>0</th>\n",
       "      <td>1</td>\n",
       "      <td>alfa-romero giulia</td>\n",
       "      <td>gas</td>\n",
       "      <td>168.8</td>\n",
       "      <td>64.1</td>\n",
       "      <td>48.8</td>\n",
       "      <td>2548</td>\n",
       "      <td>four</td>\n",
       "      <td>130.0</td>\n",
       "      <td>111.0</td>\n",
       "      <td>21</td>\n",
       "      <td>27</td>\n",
       "      <td>13495.0</td>\n",
       "    </tr>\n",
       "    <tr>\n",
       "      <th>1</th>\n",
       "      <td>2</td>\n",
       "      <td>alfa-romero stelvio</td>\n",
       "      <td>gas</td>\n",
       "      <td>168.8</td>\n",
       "      <td>64.1</td>\n",
       "      <td>48.8</td>\n",
       "      <td>2548</td>\n",
       "      <td>four</td>\n",
       "      <td>130.0</td>\n",
       "      <td>111.0</td>\n",
       "      <td>21</td>\n",
       "      <td>27</td>\n",
       "      <td>16500.0</td>\n",
       "    </tr>\n",
       "    <tr>\n",
       "      <th>2</th>\n",
       "      <td>3</td>\n",
       "      <td>alfa-romero Quadrifoglio</td>\n",
       "      <td>gas</td>\n",
       "      <td>171.2</td>\n",
       "      <td>65.5</td>\n",
       "      <td>52.4</td>\n",
       "      <td>2823</td>\n",
       "      <td>six</td>\n",
       "      <td>152.0</td>\n",
       "      <td>154.0</td>\n",
       "      <td>19</td>\n",
       "      <td>26</td>\n",
       "      <td>16500.0</td>\n",
       "    </tr>\n",
       "    <tr>\n",
       "      <th>3</th>\n",
       "      <td>4</td>\n",
       "      <td>audi 100 ls</td>\n",
       "      <td>gas</td>\n",
       "      <td>176.6</td>\n",
       "      <td>66.2</td>\n",
       "      <td>54.3</td>\n",
       "      <td>2337</td>\n",
       "      <td>four</td>\n",
       "      <td>109.0</td>\n",
       "      <td>NaN</td>\n",
       "      <td>24</td>\n",
       "      <td>30</td>\n",
       "      <td>13950.0</td>\n",
       "    </tr>\n",
       "    <tr>\n",
       "      <th>4</th>\n",
       "      <td>5</td>\n",
       "      <td>audi 100ls</td>\n",
       "      <td>gas</td>\n",
       "      <td>176.6</td>\n",
       "      <td>66.4</td>\n",
       "      <td>54.3</td>\n",
       "      <td>2824</td>\n",
       "      <td>five</td>\n",
       "      <td>136.0</td>\n",
       "      <td>115.0</td>\n",
       "      <td>18</td>\n",
       "      <td>22</td>\n",
       "      <td>NaN</td>\n",
       "    </tr>\n",
       "  </tbody>\n",
       "</table>\n",
       "</div>"
      ],
      "text/plain": [
       "   car_ID                   CarName fueltype  carlength  carwidth  carheight  \\\n",
       "0       1        alfa-romero giulia      gas      168.8      64.1       48.8   \n",
       "1       2       alfa-romero stelvio      gas      168.8      64.1       48.8   \n",
       "2       3  alfa-romero Quadrifoglio      gas      171.2      65.5       52.4   \n",
       "3       4               audi 100 ls      gas      176.6      66.2       54.3   \n",
       "4       5                audi 100ls      gas      176.6      66.4       54.3   \n",
       "\n",
       "   curbweight cylindernumber  enginesize  horsepower  citympg  highwaympg  \\\n",
       "0        2548           four       130.0       111.0       21          27   \n",
       "1        2548           four       130.0       111.0       21          27   \n",
       "2        2823            six       152.0       154.0       19          26   \n",
       "3        2337           four       109.0         NaN       24          30   \n",
       "4        2824           five       136.0       115.0       18          22   \n",
       "\n",
       "     price  \n",
       "0  13495.0  \n",
       "1  16500.0  \n",
       "2  16500.0  \n",
       "3  13950.0  \n",
       "4      NaN  "
      ]
     },
     "execution_count": 16,
     "metadata": {},
     "output_type": "execute_result"
    }
   ],
   "source": [
    "df = pd.read_csv('car_price_dataset.csv')\n",
    "df.head()"
   ]
  },
  {
   "cell_type": "code",
   "execution_count": 17,
   "metadata": {},
   "outputs": [
    {
     "data": {
      "text/html": [
       "<div>\n",
       "<style scoped>\n",
       "    .dataframe tbody tr th:only-of-type {\n",
       "        vertical-align: middle;\n",
       "    }\n",
       "\n",
       "    .dataframe tbody tr th {\n",
       "        vertical-align: top;\n",
       "    }\n",
       "\n",
       "    .dataframe thead th {\n",
       "        text-align: right;\n",
       "    }\n",
       "</style>\n",
       "<table border=\"1\" class=\"dataframe\">\n",
       "  <thead>\n",
       "    <tr style=\"text-align: right;\">\n",
       "      <th></th>\n",
       "      <th>car_ID</th>\n",
       "      <th>CarName</th>\n",
       "      <th>fueltype</th>\n",
       "      <th>carlength</th>\n",
       "      <th>carwidth</th>\n",
       "      <th>carheight</th>\n",
       "      <th>curbweight</th>\n",
       "      <th>cylindernumber</th>\n",
       "      <th>enginesize</th>\n",
       "      <th>horsepower</th>\n",
       "      <th>citympg</th>\n",
       "      <th>highwaympg</th>\n",
       "      <th>price</th>\n",
       "    </tr>\n",
       "  </thead>\n",
       "  <tbody>\n",
       "    <tr>\n",
       "      <th>200</th>\n",
       "      <td>201</td>\n",
       "      <td>volvo 145e (sw)</td>\n",
       "      <td>gas</td>\n",
       "      <td>188.8</td>\n",
       "      <td>68.9</td>\n",
       "      <td>55.5</td>\n",
       "      <td>2952</td>\n",
       "      <td>four</td>\n",
       "      <td>141.0</td>\n",
       "      <td>114.0</td>\n",
       "      <td>23</td>\n",
       "      <td>28</td>\n",
       "      <td>16845.0</td>\n",
       "    </tr>\n",
       "    <tr>\n",
       "      <th>201</th>\n",
       "      <td>202</td>\n",
       "      <td>volvo 144ea</td>\n",
       "      <td>gas</td>\n",
       "      <td>188.8</td>\n",
       "      <td>68.8</td>\n",
       "      <td>55.5</td>\n",
       "      <td>3049</td>\n",
       "      <td>four</td>\n",
       "      <td>141.0</td>\n",
       "      <td>160.0</td>\n",
       "      <td>19</td>\n",
       "      <td>25</td>\n",
       "      <td>19045.0</td>\n",
       "    </tr>\n",
       "    <tr>\n",
       "      <th>202</th>\n",
       "      <td>203</td>\n",
       "      <td>volvo 244dl</td>\n",
       "      <td>gas</td>\n",
       "      <td>188.8</td>\n",
       "      <td>68.9</td>\n",
       "      <td>55.5</td>\n",
       "      <td>3012</td>\n",
       "      <td>six</td>\n",
       "      <td>173.0</td>\n",
       "      <td>134.0</td>\n",
       "      <td>18</td>\n",
       "      <td>23</td>\n",
       "      <td>21485.0</td>\n",
       "    </tr>\n",
       "    <tr>\n",
       "      <th>203</th>\n",
       "      <td>204</td>\n",
       "      <td>volvo 246</td>\n",
       "      <td>diesel</td>\n",
       "      <td>188.8</td>\n",
       "      <td>68.9</td>\n",
       "      <td>55.5</td>\n",
       "      <td>3217</td>\n",
       "      <td>six</td>\n",
       "      <td>145.0</td>\n",
       "      <td>106.0</td>\n",
       "      <td>26</td>\n",
       "      <td>27</td>\n",
       "      <td>22470.0</td>\n",
       "    </tr>\n",
       "    <tr>\n",
       "      <th>204</th>\n",
       "      <td>205</td>\n",
       "      <td>volvo 264gl</td>\n",
       "      <td>gas</td>\n",
       "      <td>188.8</td>\n",
       "      <td>68.9</td>\n",
       "      <td>55.5</td>\n",
       "      <td>3062</td>\n",
       "      <td>four</td>\n",
       "      <td>141.0</td>\n",
       "      <td>114.0</td>\n",
       "      <td>19</td>\n",
       "      <td>25</td>\n",
       "      <td>22625.0</td>\n",
       "    </tr>\n",
       "  </tbody>\n",
       "</table>\n",
       "</div>"
      ],
      "text/plain": [
       "     car_ID          CarName fueltype  carlength  carwidth  carheight  \\\n",
       "200     201  volvo 145e (sw)      gas      188.8      68.9       55.5   \n",
       "201     202      volvo 144ea      gas      188.8      68.8       55.5   \n",
       "202     203      volvo 244dl      gas      188.8      68.9       55.5   \n",
       "203     204        volvo 246   diesel      188.8      68.9       55.5   \n",
       "204     205      volvo 264gl      gas      188.8      68.9       55.5   \n",
       "\n",
       "     curbweight cylindernumber  enginesize  horsepower  citympg  highwaympg  \\\n",
       "200        2952           four       141.0       114.0       23          28   \n",
       "201        3049           four       141.0       160.0       19          25   \n",
       "202        3012            six       173.0       134.0       18          23   \n",
       "203        3217            six       145.0       106.0       26          27   \n",
       "204        3062           four       141.0       114.0       19          25   \n",
       "\n",
       "       price  \n",
       "200  16845.0  \n",
       "201  19045.0  \n",
       "202  21485.0  \n",
       "203  22470.0  \n",
       "204  22625.0  "
      ]
     },
     "execution_count": 17,
     "metadata": {},
     "output_type": "execute_result"
    }
   ],
   "source": [
    "df.tail()"
   ]
  },
  {
   "cell_type": "code",
   "execution_count": 18,
   "metadata": {},
   "outputs": [
    {
     "data": {
      "text/html": [
       "<div>\n",
       "<style scoped>\n",
       "    .dataframe tbody tr th:only-of-type {\n",
       "        vertical-align: middle;\n",
       "    }\n",
       "\n",
       "    .dataframe tbody tr th {\n",
       "        vertical-align: top;\n",
       "    }\n",
       "\n",
       "    .dataframe thead th {\n",
       "        text-align: right;\n",
       "    }\n",
       "</style>\n",
       "<table border=\"1\" class=\"dataframe\">\n",
       "  <thead>\n",
       "    <tr style=\"text-align: right;\">\n",
       "      <th></th>\n",
       "      <th>car_ID</th>\n",
       "      <th>carlength</th>\n",
       "      <th>carwidth</th>\n",
       "      <th>carheight</th>\n",
       "      <th>curbweight</th>\n",
       "      <th>enginesize</th>\n",
       "      <th>horsepower</th>\n",
       "      <th>citympg</th>\n",
       "      <th>highwaympg</th>\n",
       "      <th>price</th>\n",
       "    </tr>\n",
       "  </thead>\n",
       "  <tbody>\n",
       "    <tr>\n",
       "      <th>count</th>\n",
       "      <td>205.000000</td>\n",
       "      <td>205.000000</td>\n",
       "      <td>205.000000</td>\n",
       "      <td>205.000000</td>\n",
       "      <td>205.000000</td>\n",
       "      <td>191.000000</td>\n",
       "      <td>182.000000</td>\n",
       "      <td>205.000000</td>\n",
       "      <td>205.000000</td>\n",
       "      <td>185.000000</td>\n",
       "    </tr>\n",
       "    <tr>\n",
       "      <th>mean</th>\n",
       "      <td>103.000000</td>\n",
       "      <td>174.049268</td>\n",
       "      <td>65.907805</td>\n",
       "      <td>53.724878</td>\n",
       "      <td>2555.565854</td>\n",
       "      <td>125.418848</td>\n",
       "      <td>105.747253</td>\n",
       "      <td>25.219512</td>\n",
       "      <td>30.751220</td>\n",
       "      <td>13392.181984</td>\n",
       "    </tr>\n",
       "    <tr>\n",
       "      <th>std</th>\n",
       "      <td>59.322565</td>\n",
       "      <td>12.337289</td>\n",
       "      <td>2.145204</td>\n",
       "      <td>2.443522</td>\n",
       "      <td>520.680204</td>\n",
       "      <td>39.229587</td>\n",
       "      <td>40.288214</td>\n",
       "      <td>6.542142</td>\n",
       "      <td>6.886443</td>\n",
       "      <td>8235.838288</td>\n",
       "    </tr>\n",
       "    <tr>\n",
       "      <th>min</th>\n",
       "      <td>1.000000</td>\n",
       "      <td>141.100000</td>\n",
       "      <td>60.300000</td>\n",
       "      <td>47.800000</td>\n",
       "      <td>1488.000000</td>\n",
       "      <td>61.000000</td>\n",
       "      <td>52.000000</td>\n",
       "      <td>13.000000</td>\n",
       "      <td>16.000000</td>\n",
       "      <td>5118.000000</td>\n",
       "    </tr>\n",
       "    <tr>\n",
       "      <th>25%</th>\n",
       "      <td>52.000000</td>\n",
       "      <td>166.300000</td>\n",
       "      <td>64.100000</td>\n",
       "      <td>52.000000</td>\n",
       "      <td>2145.000000</td>\n",
       "      <td>97.000000</td>\n",
       "      <td>72.250000</td>\n",
       "      <td>19.000000</td>\n",
       "      <td>25.000000</td>\n",
       "      <td>7788.000000</td>\n",
       "    </tr>\n",
       "    <tr>\n",
       "      <th>50%</th>\n",
       "      <td>103.000000</td>\n",
       "      <td>173.200000</td>\n",
       "      <td>65.500000</td>\n",
       "      <td>54.100000</td>\n",
       "      <td>2414.000000</td>\n",
       "      <td>119.000000</td>\n",
       "      <td>95.000000</td>\n",
       "      <td>24.000000</td>\n",
       "      <td>30.000000</td>\n",
       "      <td>10295.000000</td>\n",
       "    </tr>\n",
       "    <tr>\n",
       "      <th>75%</th>\n",
       "      <td>154.000000</td>\n",
       "      <td>183.100000</td>\n",
       "      <td>66.900000</td>\n",
       "      <td>55.500000</td>\n",
       "      <td>2935.000000</td>\n",
       "      <td>141.000000</td>\n",
       "      <td>121.000000</td>\n",
       "      <td>30.000000</td>\n",
       "      <td>34.000000</td>\n",
       "      <td>16503.000000</td>\n",
       "    </tr>\n",
       "    <tr>\n",
       "      <th>max</th>\n",
       "      <td>205.000000</td>\n",
       "      <td>208.100000</td>\n",
       "      <td>72.300000</td>\n",
       "      <td>59.800000</td>\n",
       "      <td>4066.000000</td>\n",
       "      <td>326.000000</td>\n",
       "      <td>288.000000</td>\n",
       "      <td>49.000000</td>\n",
       "      <td>54.000000</td>\n",
       "      <td>45400.000000</td>\n",
       "    </tr>\n",
       "  </tbody>\n",
       "</table>\n",
       "</div>"
      ],
      "text/plain": [
       "           car_ID   carlength    carwidth   carheight   curbweight  \\\n",
       "count  205.000000  205.000000  205.000000  205.000000   205.000000   \n",
       "mean   103.000000  174.049268   65.907805   53.724878  2555.565854   \n",
       "std     59.322565   12.337289    2.145204    2.443522   520.680204   \n",
       "min      1.000000  141.100000   60.300000   47.800000  1488.000000   \n",
       "25%     52.000000  166.300000   64.100000   52.000000  2145.000000   \n",
       "50%    103.000000  173.200000   65.500000   54.100000  2414.000000   \n",
       "75%    154.000000  183.100000   66.900000   55.500000  2935.000000   \n",
       "max    205.000000  208.100000   72.300000   59.800000  4066.000000   \n",
       "\n",
       "       enginesize  horsepower     citympg  highwaympg         price  \n",
       "count  191.000000  182.000000  205.000000  205.000000    185.000000  \n",
       "mean   125.418848  105.747253   25.219512   30.751220  13392.181984  \n",
       "std     39.229587   40.288214    6.542142    6.886443   8235.838288  \n",
       "min     61.000000   52.000000   13.000000   16.000000   5118.000000  \n",
       "25%     97.000000   72.250000   19.000000   25.000000   7788.000000  \n",
       "50%    119.000000   95.000000   24.000000   30.000000  10295.000000  \n",
       "75%    141.000000  121.000000   30.000000   34.000000  16503.000000  \n",
       "max    326.000000  288.000000   49.000000   54.000000  45400.000000  "
      ]
     },
     "execution_count": 18,
     "metadata": {},
     "output_type": "execute_result"
    }
   ],
   "source": [
    "df.describe()"
   ]
  },
  {
   "cell_type": "markdown",
   "metadata": {},
   "source": [
    "# Part 2"
   ]
  },
  {
   "cell_type": "code",
   "execution_count": 19,
   "metadata": {},
   "outputs": [
    {
     "name": "stdout",
     "output_type": "stream",
     "text": [
      "<class 'pandas.core.frame.DataFrame'>\n",
      "RangeIndex: 205 entries, 0 to 204\n",
      "Data columns (total 13 columns):\n",
      " #   Column          Non-Null Count  Dtype  \n",
      "---  ------          --------------  -----  \n",
      " 0   car_ID          205 non-null    int64  \n",
      " 1   CarName         205 non-null    object \n",
      " 2   fueltype        205 non-null    int64  \n",
      " 3   carlength       205 non-null    float64\n",
      " 4   carwidth        205 non-null    float64\n",
      " 5   carheight       205 non-null    float64\n",
      " 6   curbweight      205 non-null    int64  \n",
      " 7   cylindernumber  205 non-null    object \n",
      " 8   enginesize      191 non-null    float64\n",
      " 9   horsepower      182 non-null    float64\n",
      " 10  citympg         205 non-null    int64  \n",
      " 11  highwaympg      205 non-null    int64  \n",
      " 12  price           185 non-null    float64\n",
      "dtypes: float64(6), int64(5), object(2)\n",
      "memory usage: 20.9+ KB\n"
     ]
    }
   ],
   "source": [
    "df['fueltype'] = df['fueltype'].map({'gas':0,'diesel':1})\n",
    "df.info()"
   ]
  },
  {
   "cell_type": "code",
   "execution_count": 20,
   "metadata": {},
   "outputs": [
    {
     "data": {
      "text/html": [
       "<div>\n",
       "<style scoped>\n",
       "    .dataframe tbody tr th:only-of-type {\n",
       "        vertical-align: middle;\n",
       "    }\n",
       "\n",
       "    .dataframe tbody tr th {\n",
       "        vertical-align: top;\n",
       "    }\n",
       "\n",
       "    .dataframe thead th {\n",
       "        text-align: right;\n",
       "    }\n",
       "</style>\n",
       "<table border=\"1\" class=\"dataframe\">\n",
       "  <thead>\n",
       "    <tr style=\"text-align: right;\">\n",
       "      <th></th>\n",
       "      <th>car_ID</th>\n",
       "      <th>CarName</th>\n",
       "      <th>fueltype</th>\n",
       "      <th>carlength</th>\n",
       "      <th>carwidth</th>\n",
       "      <th>carheight</th>\n",
       "      <th>curbweight</th>\n",
       "      <th>cylindernumber</th>\n",
       "      <th>enginesize</th>\n",
       "      <th>horsepower</th>\n",
       "      <th>citympg</th>\n",
       "      <th>highwaympg</th>\n",
       "      <th>price</th>\n",
       "    </tr>\n",
       "  </thead>\n",
       "  <tbody>\n",
       "    <tr>\n",
       "      <th>200</th>\n",
       "      <td>201</td>\n",
       "      <td>volvo 145e (sw)</td>\n",
       "      <td>0</td>\n",
       "      <td>188.8</td>\n",
       "      <td>68.9</td>\n",
       "      <td>55.5</td>\n",
       "      <td>2952</td>\n",
       "      <td>four</td>\n",
       "      <td>141.0</td>\n",
       "      <td>114.0</td>\n",
       "      <td>23</td>\n",
       "      <td>28</td>\n",
       "      <td>16845.0</td>\n",
       "    </tr>\n",
       "    <tr>\n",
       "      <th>201</th>\n",
       "      <td>202</td>\n",
       "      <td>volvo 144ea</td>\n",
       "      <td>0</td>\n",
       "      <td>188.8</td>\n",
       "      <td>68.8</td>\n",
       "      <td>55.5</td>\n",
       "      <td>3049</td>\n",
       "      <td>four</td>\n",
       "      <td>141.0</td>\n",
       "      <td>160.0</td>\n",
       "      <td>19</td>\n",
       "      <td>25</td>\n",
       "      <td>19045.0</td>\n",
       "    </tr>\n",
       "    <tr>\n",
       "      <th>202</th>\n",
       "      <td>203</td>\n",
       "      <td>volvo 244dl</td>\n",
       "      <td>0</td>\n",
       "      <td>188.8</td>\n",
       "      <td>68.9</td>\n",
       "      <td>55.5</td>\n",
       "      <td>3012</td>\n",
       "      <td>six</td>\n",
       "      <td>173.0</td>\n",
       "      <td>134.0</td>\n",
       "      <td>18</td>\n",
       "      <td>23</td>\n",
       "      <td>21485.0</td>\n",
       "    </tr>\n",
       "    <tr>\n",
       "      <th>203</th>\n",
       "      <td>204</td>\n",
       "      <td>volvo 246</td>\n",
       "      <td>1</td>\n",
       "      <td>188.8</td>\n",
       "      <td>68.9</td>\n",
       "      <td>55.5</td>\n",
       "      <td>3217</td>\n",
       "      <td>six</td>\n",
       "      <td>145.0</td>\n",
       "      <td>106.0</td>\n",
       "      <td>26</td>\n",
       "      <td>27</td>\n",
       "      <td>22470.0</td>\n",
       "    </tr>\n",
       "    <tr>\n",
       "      <th>204</th>\n",
       "      <td>205</td>\n",
       "      <td>volvo 264gl</td>\n",
       "      <td>0</td>\n",
       "      <td>188.8</td>\n",
       "      <td>68.9</td>\n",
       "      <td>55.5</td>\n",
       "      <td>3062</td>\n",
       "      <td>four</td>\n",
       "      <td>141.0</td>\n",
       "      <td>114.0</td>\n",
       "      <td>19</td>\n",
       "      <td>25</td>\n",
       "      <td>22625.0</td>\n",
       "    </tr>\n",
       "  </tbody>\n",
       "</table>\n",
       "</div>"
      ],
      "text/plain": [
       "     car_ID          CarName  fueltype  carlength  carwidth  carheight  \\\n",
       "200     201  volvo 145e (sw)         0      188.8      68.9       55.5   \n",
       "201     202      volvo 144ea         0      188.8      68.8       55.5   \n",
       "202     203      volvo 244dl         0      188.8      68.9       55.5   \n",
       "203     204        volvo 246         1      188.8      68.9       55.5   \n",
       "204     205      volvo 264gl         0      188.8      68.9       55.5   \n",
       "\n",
       "     curbweight cylindernumber  enginesize  horsepower  citympg  highwaympg  \\\n",
       "200        2952           four       141.0       114.0       23          28   \n",
       "201        3049           four       141.0       160.0       19          25   \n",
       "202        3012            six       173.0       134.0       18          23   \n",
       "203        3217            six       145.0       106.0       26          27   \n",
       "204        3062           four       141.0       114.0       19          25   \n",
       "\n",
       "       price  \n",
       "200  16845.0  \n",
       "201  19045.0  \n",
       "202  21485.0  \n",
       "203  22470.0  \n",
       "204  22625.0  "
      ]
     },
     "execution_count": 20,
     "metadata": {},
     "output_type": "execute_result"
    }
   ],
   "source": [
    "df.tail()"
   ]
  },
  {
   "cell_type": "markdown",
   "metadata": {},
   "source": [
    "# Part 3"
   ]
  },
  {
   "cell_type": "markdown",
   "metadata": {
    "direction": "rtl"
   },
   "source": [
    "نکته مثبت این کار این است که برای درک شمای کلی داده ها به ما کمک میکند و ما نمیتوانیم NaN را تفسیر کنیم یا دیدی نسبت به آن داشته باشیم و اینکار برای تصویر سازی داده ها بسیار مفید است."
   ]
  },
  {
   "cell_type": "markdown",
   "metadata": {
    "direction": "rtl"
   },
   "source": [
    "اما با این کار ما عملا داده هایی ساختیم که لزوما مطابق با واقعیت نیستند و در مراحل بعدی و پیشبینی قیمت ممکن است به مشکل بر بخوریم و به جوابی برسیم که بر پایه داده های غلط است."
   ]
  },
  {
   "cell_type": "code",
   "execution_count": 21,
   "metadata": {},
   "outputs": [
    {
     "data": {
      "text/html": [
       "<div>\n",
       "<style scoped>\n",
       "    .dataframe tbody tr th:only-of-type {\n",
       "        vertical-align: middle;\n",
       "    }\n",
       "\n",
       "    .dataframe tbody tr th {\n",
       "        vertical-align: top;\n",
       "    }\n",
       "\n",
       "    .dataframe thead th {\n",
       "        text-align: right;\n",
       "    }\n",
       "</style>\n",
       "<table border=\"1\" class=\"dataframe\">\n",
       "  <thead>\n",
       "    <tr style=\"text-align: right;\">\n",
       "      <th></th>\n",
       "      <th>car_ID</th>\n",
       "      <th>CarName</th>\n",
       "      <th>fueltype</th>\n",
       "      <th>carlength</th>\n",
       "      <th>carwidth</th>\n",
       "      <th>carheight</th>\n",
       "      <th>curbweight</th>\n",
       "      <th>cylindernumber</th>\n",
       "      <th>enginesize</th>\n",
       "      <th>horsepower</th>\n",
       "      <th>citympg</th>\n",
       "      <th>highwaympg</th>\n",
       "      <th>price</th>\n",
       "    </tr>\n",
       "  </thead>\n",
       "  <tbody>\n",
       "    <tr>\n",
       "      <th>0</th>\n",
       "      <td>1</td>\n",
       "      <td>alfa-romero giulia</td>\n",
       "      <td>0</td>\n",
       "      <td>168.8</td>\n",
       "      <td>64.1</td>\n",
       "      <td>48.8</td>\n",
       "      <td>2548</td>\n",
       "      <td>four</td>\n",
       "      <td>130.000000</td>\n",
       "      <td>111.000000</td>\n",
       "      <td>21</td>\n",
       "      <td>27</td>\n",
       "      <td>13495.000</td>\n",
       "    </tr>\n",
       "    <tr>\n",
       "      <th>1</th>\n",
       "      <td>2</td>\n",
       "      <td>alfa-romero stelvio</td>\n",
       "      <td>0</td>\n",
       "      <td>168.8</td>\n",
       "      <td>64.1</td>\n",
       "      <td>48.8</td>\n",
       "      <td>2548</td>\n",
       "      <td>four</td>\n",
       "      <td>130.000000</td>\n",
       "      <td>111.000000</td>\n",
       "      <td>21</td>\n",
       "      <td>27</td>\n",
       "      <td>16500.000</td>\n",
       "    </tr>\n",
       "    <tr>\n",
       "      <th>2</th>\n",
       "      <td>3</td>\n",
       "      <td>alfa-romero Quadrifoglio</td>\n",
       "      <td>0</td>\n",
       "      <td>171.2</td>\n",
       "      <td>65.5</td>\n",
       "      <td>52.4</td>\n",
       "      <td>2823</td>\n",
       "      <td>six</td>\n",
       "      <td>152.000000</td>\n",
       "      <td>154.000000</td>\n",
       "      <td>19</td>\n",
       "      <td>26</td>\n",
       "      <td>16500.000</td>\n",
       "    </tr>\n",
       "    <tr>\n",
       "      <th>3</th>\n",
       "      <td>4</td>\n",
       "      <td>audi 100 ls</td>\n",
       "      <td>0</td>\n",
       "      <td>176.6</td>\n",
       "      <td>66.2</td>\n",
       "      <td>54.3</td>\n",
       "      <td>2337</td>\n",
       "      <td>four</td>\n",
       "      <td>109.000000</td>\n",
       "      <td>105.747253</td>\n",
       "      <td>24</td>\n",
       "      <td>30</td>\n",
       "      <td>13950.000</td>\n",
       "    </tr>\n",
       "    <tr>\n",
       "      <th>4</th>\n",
       "      <td>5</td>\n",
       "      <td>audi 100ls</td>\n",
       "      <td>0</td>\n",
       "      <td>176.6</td>\n",
       "      <td>66.4</td>\n",
       "      <td>54.3</td>\n",
       "      <td>2824</td>\n",
       "      <td>five</td>\n",
       "      <td>136.000000</td>\n",
       "      <td>115.000000</td>\n",
       "      <td>18</td>\n",
       "      <td>22</td>\n",
       "      <td>NaN</td>\n",
       "    </tr>\n",
       "    <tr>\n",
       "      <th>5</th>\n",
       "      <td>6</td>\n",
       "      <td>audi fox</td>\n",
       "      <td>0</td>\n",
       "      <td>177.3</td>\n",
       "      <td>66.3</td>\n",
       "      <td>53.1</td>\n",
       "      <td>2507</td>\n",
       "      <td>five</td>\n",
       "      <td>136.000000</td>\n",
       "      <td>110.000000</td>\n",
       "      <td>19</td>\n",
       "      <td>25</td>\n",
       "      <td>15250.000</td>\n",
       "    </tr>\n",
       "    <tr>\n",
       "      <th>6</th>\n",
       "      <td>7</td>\n",
       "      <td>audi 100ls</td>\n",
       "      <td>0</td>\n",
       "      <td>192.7</td>\n",
       "      <td>71.4</td>\n",
       "      <td>55.7</td>\n",
       "      <td>2844</td>\n",
       "      <td>five</td>\n",
       "      <td>136.000000</td>\n",
       "      <td>110.000000</td>\n",
       "      <td>19</td>\n",
       "      <td>25</td>\n",
       "      <td>17710.000</td>\n",
       "    </tr>\n",
       "    <tr>\n",
       "      <th>7</th>\n",
       "      <td>8</td>\n",
       "      <td>audi 5000</td>\n",
       "      <td>0</td>\n",
       "      <td>192.7</td>\n",
       "      <td>71.4</td>\n",
       "      <td>55.7</td>\n",
       "      <td>2954</td>\n",
       "      <td>five</td>\n",
       "      <td>136.000000</td>\n",
       "      <td>110.000000</td>\n",
       "      <td>19</td>\n",
       "      <td>25</td>\n",
       "      <td>18920.000</td>\n",
       "    </tr>\n",
       "    <tr>\n",
       "      <th>8</th>\n",
       "      <td>9</td>\n",
       "      <td>audi 4000</td>\n",
       "      <td>0</td>\n",
       "      <td>192.7</td>\n",
       "      <td>71.4</td>\n",
       "      <td>55.9</td>\n",
       "      <td>3086</td>\n",
       "      <td>five</td>\n",
       "      <td>131.000000</td>\n",
       "      <td>140.000000</td>\n",
       "      <td>17</td>\n",
       "      <td>20</td>\n",
       "      <td>23875.000</td>\n",
       "    </tr>\n",
       "    <tr>\n",
       "      <th>9</th>\n",
       "      <td>10</td>\n",
       "      <td>audi 5000s (diesel)</td>\n",
       "      <td>0</td>\n",
       "      <td>178.2</td>\n",
       "      <td>67.9</td>\n",
       "      <td>52.0</td>\n",
       "      <td>3053</td>\n",
       "      <td>five</td>\n",
       "      <td>131.000000</td>\n",
       "      <td>105.747253</td>\n",
       "      <td>16</td>\n",
       "      <td>22</td>\n",
       "      <td>17859.167</td>\n",
       "    </tr>\n",
       "    <tr>\n",
       "      <th>10</th>\n",
       "      <td>11</td>\n",
       "      <td>bmw 320i</td>\n",
       "      <td>0</td>\n",
       "      <td>176.8</td>\n",
       "      <td>64.8</td>\n",
       "      <td>54.3</td>\n",
       "      <td>2395</td>\n",
       "      <td>four</td>\n",
       "      <td>108.000000</td>\n",
       "      <td>101.000000</td>\n",
       "      <td>23</td>\n",
       "      <td>29</td>\n",
       "      <td>16430.000</td>\n",
       "    </tr>\n",
       "    <tr>\n",
       "      <th>11</th>\n",
       "      <td>12</td>\n",
       "      <td>bmw 320i</td>\n",
       "      <td>0</td>\n",
       "      <td>176.8</td>\n",
       "      <td>64.8</td>\n",
       "      <td>54.3</td>\n",
       "      <td>2395</td>\n",
       "      <td>four</td>\n",
       "      <td>108.000000</td>\n",
       "      <td>105.747253</td>\n",
       "      <td>23</td>\n",
       "      <td>29</td>\n",
       "      <td>16925.000</td>\n",
       "    </tr>\n",
       "    <tr>\n",
       "      <th>12</th>\n",
       "      <td>13</td>\n",
       "      <td>bmw x1</td>\n",
       "      <td>0</td>\n",
       "      <td>176.8</td>\n",
       "      <td>64.8</td>\n",
       "      <td>54.3</td>\n",
       "      <td>2710</td>\n",
       "      <td>six</td>\n",
       "      <td>164.000000</td>\n",
       "      <td>121.000000</td>\n",
       "      <td>21</td>\n",
       "      <td>28</td>\n",
       "      <td>20970.000</td>\n",
       "    </tr>\n",
       "    <tr>\n",
       "      <th>13</th>\n",
       "      <td>14</td>\n",
       "      <td>bmw x3</td>\n",
       "      <td>0</td>\n",
       "      <td>176.8</td>\n",
       "      <td>64.8</td>\n",
       "      <td>54.3</td>\n",
       "      <td>2765</td>\n",
       "      <td>six</td>\n",
       "      <td>164.000000</td>\n",
       "      <td>121.000000</td>\n",
       "      <td>21</td>\n",
       "      <td>28</td>\n",
       "      <td>21105.000</td>\n",
       "    </tr>\n",
       "    <tr>\n",
       "      <th>14</th>\n",
       "      <td>15</td>\n",
       "      <td>bmw z4</td>\n",
       "      <td>0</td>\n",
       "      <td>189.0</td>\n",
       "      <td>66.9</td>\n",
       "      <td>55.7</td>\n",
       "      <td>3055</td>\n",
       "      <td>six</td>\n",
       "      <td>164.000000</td>\n",
       "      <td>121.000000</td>\n",
       "      <td>20</td>\n",
       "      <td>25</td>\n",
       "      <td>24565.000</td>\n",
       "    </tr>\n",
       "    <tr>\n",
       "      <th>15</th>\n",
       "      <td>16</td>\n",
       "      <td>bmw x4</td>\n",
       "      <td>0</td>\n",
       "      <td>189.0</td>\n",
       "      <td>66.9</td>\n",
       "      <td>55.7</td>\n",
       "      <td>3230</td>\n",
       "      <td>six</td>\n",
       "      <td>209.000000</td>\n",
       "      <td>182.000000</td>\n",
       "      <td>16</td>\n",
       "      <td>22</td>\n",
       "      <td>30760.000</td>\n",
       "    </tr>\n",
       "    <tr>\n",
       "      <th>16</th>\n",
       "      <td>17</td>\n",
       "      <td>bmw x5</td>\n",
       "      <td>0</td>\n",
       "      <td>193.8</td>\n",
       "      <td>67.9</td>\n",
       "      <td>53.7</td>\n",
       "      <td>3380</td>\n",
       "      <td>six</td>\n",
       "      <td>209.000000</td>\n",
       "      <td>182.000000</td>\n",
       "      <td>16</td>\n",
       "      <td>22</td>\n",
       "      <td>41315.000</td>\n",
       "    </tr>\n",
       "    <tr>\n",
       "      <th>17</th>\n",
       "      <td>18</td>\n",
       "      <td>bmw x3</td>\n",
       "      <td>0</td>\n",
       "      <td>197.0</td>\n",
       "      <td>70.9</td>\n",
       "      <td>56.3</td>\n",
       "      <td>3505</td>\n",
       "      <td>six</td>\n",
       "      <td>125.418848</td>\n",
       "      <td>182.000000</td>\n",
       "      <td>15</td>\n",
       "      <td>20</td>\n",
       "      <td>36880.000</td>\n",
       "    </tr>\n",
       "    <tr>\n",
       "      <th>18</th>\n",
       "      <td>19</td>\n",
       "      <td>chevrolet impala</td>\n",
       "      <td>0</td>\n",
       "      <td>141.1</td>\n",
       "      <td>60.3</td>\n",
       "      <td>53.2</td>\n",
       "      <td>1488</td>\n",
       "      <td>three</td>\n",
       "      <td>61.000000</td>\n",
       "      <td>105.747253</td>\n",
       "      <td>47</td>\n",
       "      <td>53</td>\n",
       "      <td>5151.000</td>\n",
       "    </tr>\n",
       "    <tr>\n",
       "      <th>19</th>\n",
       "      <td>20</td>\n",
       "      <td>chevrolet monte carlo</td>\n",
       "      <td>0</td>\n",
       "      <td>155.9</td>\n",
       "      <td>63.6</td>\n",
       "      <td>52.0</td>\n",
       "      <td>1874</td>\n",
       "      <td>four</td>\n",
       "      <td>90.000000</td>\n",
       "      <td>70.000000</td>\n",
       "      <td>38</td>\n",
       "      <td>43</td>\n",
       "      <td>6295.000</td>\n",
       "    </tr>\n",
       "  </tbody>\n",
       "</table>\n",
       "</div>"
      ],
      "text/plain": [
       "    car_ID                   CarName  fueltype  carlength  carwidth  \\\n",
       "0        1        alfa-romero giulia         0      168.8      64.1   \n",
       "1        2       alfa-romero stelvio         0      168.8      64.1   \n",
       "2        3  alfa-romero Quadrifoglio         0      171.2      65.5   \n",
       "3        4               audi 100 ls         0      176.6      66.2   \n",
       "4        5                audi 100ls         0      176.6      66.4   \n",
       "5        6                  audi fox         0      177.3      66.3   \n",
       "6        7                audi 100ls         0      192.7      71.4   \n",
       "7        8                 audi 5000         0      192.7      71.4   \n",
       "8        9                 audi 4000         0      192.7      71.4   \n",
       "9       10       audi 5000s (diesel)         0      178.2      67.9   \n",
       "10      11                  bmw 320i         0      176.8      64.8   \n",
       "11      12                  bmw 320i         0      176.8      64.8   \n",
       "12      13                    bmw x1         0      176.8      64.8   \n",
       "13      14                    bmw x3         0      176.8      64.8   \n",
       "14      15                    bmw z4         0      189.0      66.9   \n",
       "15      16                    bmw x4         0      189.0      66.9   \n",
       "16      17                    bmw x5         0      193.8      67.9   \n",
       "17      18                    bmw x3         0      197.0      70.9   \n",
       "18      19          chevrolet impala         0      141.1      60.3   \n",
       "19      20     chevrolet monte carlo         0      155.9      63.6   \n",
       "\n",
       "    carheight  curbweight cylindernumber  enginesize  horsepower  citympg  \\\n",
       "0        48.8        2548           four  130.000000  111.000000       21   \n",
       "1        48.8        2548           four  130.000000  111.000000       21   \n",
       "2        52.4        2823            six  152.000000  154.000000       19   \n",
       "3        54.3        2337           four  109.000000  105.747253       24   \n",
       "4        54.3        2824           five  136.000000  115.000000       18   \n",
       "5        53.1        2507           five  136.000000  110.000000       19   \n",
       "6        55.7        2844           five  136.000000  110.000000       19   \n",
       "7        55.7        2954           five  136.000000  110.000000       19   \n",
       "8        55.9        3086           five  131.000000  140.000000       17   \n",
       "9        52.0        3053           five  131.000000  105.747253       16   \n",
       "10       54.3        2395           four  108.000000  101.000000       23   \n",
       "11       54.3        2395           four  108.000000  105.747253       23   \n",
       "12       54.3        2710            six  164.000000  121.000000       21   \n",
       "13       54.3        2765            six  164.000000  121.000000       21   \n",
       "14       55.7        3055            six  164.000000  121.000000       20   \n",
       "15       55.7        3230            six  209.000000  182.000000       16   \n",
       "16       53.7        3380            six  209.000000  182.000000       16   \n",
       "17       56.3        3505            six  125.418848  182.000000       15   \n",
       "18       53.2        1488          three   61.000000  105.747253       47   \n",
       "19       52.0        1874           four   90.000000   70.000000       38   \n",
       "\n",
       "    highwaympg      price  \n",
       "0           27  13495.000  \n",
       "1           27  16500.000  \n",
       "2           26  16500.000  \n",
       "3           30  13950.000  \n",
       "4           22        NaN  \n",
       "5           25  15250.000  \n",
       "6           25  17710.000  \n",
       "7           25  18920.000  \n",
       "8           20  23875.000  \n",
       "9           22  17859.167  \n",
       "10          29  16430.000  \n",
       "11          29  16925.000  \n",
       "12          28  20970.000  \n",
       "13          28  21105.000  \n",
       "14          25  24565.000  \n",
       "15          22  30760.000  \n",
       "16          22  41315.000  \n",
       "17          20  36880.000  \n",
       "18          53   5151.000  \n",
       "19          43   6295.000  "
      ]
     },
     "execution_count": 21,
     "metadata": {},
     "output_type": "execute_result"
    }
   ],
   "source": [
    "price = df['price']\n",
    "df = df.drop(columns=['price'])\n",
    "df= df.fillna(df.mean())\n",
    "df['price'] = price\n",
    "df.head(20)\n",
    "#new df based on price and id is in next cell"
   ]
  },
  {
   "cell_type": "markdown",
   "metadata": {
    "direction": "rtl"
   },
   "source": [
    "در اینجا فرض شده است که منظور صورت سوال این است که سطر هایی که قیمت آنها مشخص نیست حذف شده و به دیتا فریم جدید اضافه شود(در غیر این صورت دومین خط از سلول پایین باید حذف شود) "
   ]
  },
  {
   "cell_type": "code",
   "execution_count": 22,
   "metadata": {},
   "outputs": [
    {
     "data": {
      "text/html": [
       "<div>\n",
       "<style scoped>\n",
       "    .dataframe tbody tr th:only-of-type {\n",
       "        vertical-align: middle;\n",
       "    }\n",
       "\n",
       "    .dataframe tbody tr th {\n",
       "        vertical-align: top;\n",
       "    }\n",
       "\n",
       "    .dataframe thead th {\n",
       "        text-align: right;\n",
       "    }\n",
       "</style>\n",
       "<table border=\"1\" class=\"dataframe\">\n",
       "  <thead>\n",
       "    <tr style=\"text-align: right;\">\n",
       "      <th></th>\n",
       "      <th>car_ID</th>\n",
       "      <th>CarName</th>\n",
       "      <th>fueltype</th>\n",
       "      <th>carlength</th>\n",
       "      <th>carwidth</th>\n",
       "      <th>carheight</th>\n",
       "      <th>curbweight</th>\n",
       "      <th>cylindernumber</th>\n",
       "      <th>enginesize</th>\n",
       "      <th>horsepower</th>\n",
       "      <th>citympg</th>\n",
       "      <th>highwaympg</th>\n",
       "      <th>price</th>\n",
       "    </tr>\n",
       "  </thead>\n",
       "  <tbody>\n",
       "    <tr>\n",
       "      <th>4</th>\n",
       "      <td>5</td>\n",
       "      <td>audi 100ls</td>\n",
       "      <td>0</td>\n",
       "      <td>176.6</td>\n",
       "      <td>66.4</td>\n",
       "      <td>54.3</td>\n",
       "      <td>2824</td>\n",
       "      <td>five</td>\n",
       "      <td>136.000000</td>\n",
       "      <td>115.0</td>\n",
       "      <td>18</td>\n",
       "      <td>22</td>\n",
       "      <td>NaN</td>\n",
       "    </tr>\n",
       "    <tr>\n",
       "      <th>29</th>\n",
       "      <td>30</td>\n",
       "      <td>dodge coronet custom (sw)</td>\n",
       "      <td>0</td>\n",
       "      <td>173.2</td>\n",
       "      <td>66.3</td>\n",
       "      <td>50.2</td>\n",
       "      <td>2811</td>\n",
       "      <td>four</td>\n",
       "      <td>156.000000</td>\n",
       "      <td>145.0</td>\n",
       "      <td>19</td>\n",
       "      <td>24</td>\n",
       "      <td>NaN</td>\n",
       "    </tr>\n",
       "    <tr>\n",
       "      <th>31</th>\n",
       "      <td>32</td>\n",
       "      <td>honda civic cvcc</td>\n",
       "      <td>0</td>\n",
       "      <td>144.6</td>\n",
       "      <td>63.9</td>\n",
       "      <td>50.8</td>\n",
       "      <td>1819</td>\n",
       "      <td>four</td>\n",
       "      <td>92.000000</td>\n",
       "      <td>76.0</td>\n",
       "      <td>31</td>\n",
       "      <td>38</td>\n",
       "      <td>NaN</td>\n",
       "    </tr>\n",
       "    <tr>\n",
       "      <th>52</th>\n",
       "      <td>53</td>\n",
       "      <td>mazda rx2 coupe</td>\n",
       "      <td>0</td>\n",
       "      <td>159.1</td>\n",
       "      <td>64.2</td>\n",
       "      <td>54.1</td>\n",
       "      <td>1905</td>\n",
       "      <td>four</td>\n",
       "      <td>91.000000</td>\n",
       "      <td>68.0</td>\n",
       "      <td>31</td>\n",
       "      <td>38</td>\n",
       "      <td>NaN</td>\n",
       "    </tr>\n",
       "    <tr>\n",
       "      <th>53</th>\n",
       "      <td>54</td>\n",
       "      <td>mazda rx-4</td>\n",
       "      <td>0</td>\n",
       "      <td>166.8</td>\n",
       "      <td>64.2</td>\n",
       "      <td>54.1</td>\n",
       "      <td>1945</td>\n",
       "      <td>four</td>\n",
       "      <td>91.000000</td>\n",
       "      <td>68.0</td>\n",
       "      <td>31</td>\n",
       "      <td>38</td>\n",
       "      <td>NaN</td>\n",
       "    </tr>\n",
       "    <tr>\n",
       "      <th>59</th>\n",
       "      <td>60</td>\n",
       "      <td>mazda 626</td>\n",
       "      <td>0</td>\n",
       "      <td>177.8</td>\n",
       "      <td>66.5</td>\n",
       "      <td>53.7</td>\n",
       "      <td>2385</td>\n",
       "      <td>four</td>\n",
       "      <td>122.000000</td>\n",
       "      <td>84.0</td>\n",
       "      <td>26</td>\n",
       "      <td>32</td>\n",
       "      <td>NaN</td>\n",
       "    </tr>\n",
       "    <tr>\n",
       "      <th>62</th>\n",
       "      <td>63</td>\n",
       "      <td>mazda rx-4</td>\n",
       "      <td>0</td>\n",
       "      <td>177.8</td>\n",
       "      <td>66.5</td>\n",
       "      <td>55.5</td>\n",
       "      <td>2410</td>\n",
       "      <td>four</td>\n",
       "      <td>122.000000</td>\n",
       "      <td>84.0</td>\n",
       "      <td>26</td>\n",
       "      <td>32</td>\n",
       "      <td>NaN</td>\n",
       "    </tr>\n",
       "    <tr>\n",
       "      <th>67</th>\n",
       "      <td>68</td>\n",
       "      <td>buick electra 225 custom</td>\n",
       "      <td>1</td>\n",
       "      <td>190.9</td>\n",
       "      <td>70.3</td>\n",
       "      <td>56.5</td>\n",
       "      <td>3515</td>\n",
       "      <td>five</td>\n",
       "      <td>183.000000</td>\n",
       "      <td>123.0</td>\n",
       "      <td>22</td>\n",
       "      <td>25</td>\n",
       "      <td>NaN</td>\n",
       "    </tr>\n",
       "    <tr>\n",
       "      <th>78</th>\n",
       "      <td>79</td>\n",
       "      <td>mitsubishi outlander</td>\n",
       "      <td>0</td>\n",
       "      <td>157.3</td>\n",
       "      <td>64.4</td>\n",
       "      <td>50.8</td>\n",
       "      <td>2004</td>\n",
       "      <td>four</td>\n",
       "      <td>92.000000</td>\n",
       "      <td>68.0</td>\n",
       "      <td>31</td>\n",
       "      <td>38</td>\n",
       "      <td>NaN</td>\n",
       "    </tr>\n",
       "    <tr>\n",
       "      <th>84</th>\n",
       "      <td>85</td>\n",
       "      <td>mitsubishi mirage g4</td>\n",
       "      <td>0</td>\n",
       "      <td>173.2</td>\n",
       "      <td>66.3</td>\n",
       "      <td>50.2</td>\n",
       "      <td>2926</td>\n",
       "      <td>four</td>\n",
       "      <td>156.000000</td>\n",
       "      <td>145.0</td>\n",
       "      <td>19</td>\n",
       "      <td>24</td>\n",
       "      <td>NaN</td>\n",
       "    </tr>\n",
       "    <tr>\n",
       "      <th>87</th>\n",
       "      <td>88</td>\n",
       "      <td>mitsubishi outlander</td>\n",
       "      <td>0</td>\n",
       "      <td>172.4</td>\n",
       "      <td>65.4</td>\n",
       "      <td>51.6</td>\n",
       "      <td>2403</td>\n",
       "      <td>four</td>\n",
       "      <td>110.000000</td>\n",
       "      <td>116.0</td>\n",
       "      <td>23</td>\n",
       "      <td>30</td>\n",
       "      <td>NaN</td>\n",
       "    </tr>\n",
       "    <tr>\n",
       "      <th>88</th>\n",
       "      <td>89</td>\n",
       "      <td>mitsubishi mirage g4</td>\n",
       "      <td>0</td>\n",
       "      <td>172.4</td>\n",
       "      <td>65.4</td>\n",
       "      <td>51.6</td>\n",
       "      <td>2403</td>\n",
       "      <td>four</td>\n",
       "      <td>110.000000</td>\n",
       "      <td>116.0</td>\n",
       "      <td>23</td>\n",
       "      <td>30</td>\n",
       "      <td>NaN</td>\n",
       "    </tr>\n",
       "    <tr>\n",
       "      <th>104</th>\n",
       "      <td>105</td>\n",
       "      <td>nissan teana</td>\n",
       "      <td>0</td>\n",
       "      <td>170.7</td>\n",
       "      <td>67.9</td>\n",
       "      <td>49.7</td>\n",
       "      <td>3071</td>\n",
       "      <td>six</td>\n",
       "      <td>181.000000</td>\n",
       "      <td>160.0</td>\n",
       "      <td>19</td>\n",
       "      <td>25</td>\n",
       "      <td>NaN</td>\n",
       "    </tr>\n",
       "    <tr>\n",
       "      <th>123</th>\n",
       "      <td>124</td>\n",
       "      <td>plymouth valiant</td>\n",
       "      <td>0</td>\n",
       "      <td>174.6</td>\n",
       "      <td>64.6</td>\n",
       "      <td>59.8</td>\n",
       "      <td>2535</td>\n",
       "      <td>four</td>\n",
       "      <td>122.000000</td>\n",
       "      <td>88.0</td>\n",
       "      <td>24</td>\n",
       "      <td>30</td>\n",
       "      <td>NaN</td>\n",
       "    </tr>\n",
       "    <tr>\n",
       "      <th>136</th>\n",
       "      <td>137</td>\n",
       "      <td>saab 99gle</td>\n",
       "      <td>0</td>\n",
       "      <td>186.6</td>\n",
       "      <td>66.5</td>\n",
       "      <td>56.1</td>\n",
       "      <td>2808</td>\n",
       "      <td>four</td>\n",
       "      <td>125.418848</td>\n",
       "      <td>160.0</td>\n",
       "      <td>19</td>\n",
       "      <td>26</td>\n",
       "      <td>NaN</td>\n",
       "    </tr>\n",
       "    <tr>\n",
       "      <th>137</th>\n",
       "      <td>138</td>\n",
       "      <td>saab 99e</td>\n",
       "      <td>0</td>\n",
       "      <td>186.6</td>\n",
       "      <td>66.5</td>\n",
       "      <td>56.1</td>\n",
       "      <td>2847</td>\n",
       "      <td>four</td>\n",
       "      <td>121.000000</td>\n",
       "      <td>160.0</td>\n",
       "      <td>19</td>\n",
       "      <td>26</td>\n",
       "      <td>NaN</td>\n",
       "    </tr>\n",
       "    <tr>\n",
       "      <th>141</th>\n",
       "      <td>142</td>\n",
       "      <td>subaru</td>\n",
       "      <td>0</td>\n",
       "      <td>172.0</td>\n",
       "      <td>65.4</td>\n",
       "      <td>52.5</td>\n",
       "      <td>2145</td>\n",
       "      <td>four</td>\n",
       "      <td>108.000000</td>\n",
       "      <td>82.0</td>\n",
       "      <td>32</td>\n",
       "      <td>37</td>\n",
       "      <td>NaN</td>\n",
       "    </tr>\n",
       "    <tr>\n",
       "      <th>149</th>\n",
       "      <td>150</td>\n",
       "      <td>subaru dl</td>\n",
       "      <td>0</td>\n",
       "      <td>173.6</td>\n",
       "      <td>65.4</td>\n",
       "      <td>54.9</td>\n",
       "      <td>2650</td>\n",
       "      <td>four</td>\n",
       "      <td>108.000000</td>\n",
       "      <td>111.0</td>\n",
       "      <td>23</td>\n",
       "      <td>23</td>\n",
       "      <td>NaN</td>\n",
       "    </tr>\n",
       "    <tr>\n",
       "      <th>181</th>\n",
       "      <td>182</td>\n",
       "      <td>toyouta tercel</td>\n",
       "      <td>0</td>\n",
       "      <td>187.8</td>\n",
       "      <td>66.5</td>\n",
       "      <td>54.1</td>\n",
       "      <td>3151</td>\n",
       "      <td>six</td>\n",
       "      <td>161.000000</td>\n",
       "      <td>156.0</td>\n",
       "      <td>19</td>\n",
       "      <td>24</td>\n",
       "      <td>NaN</td>\n",
       "    </tr>\n",
       "    <tr>\n",
       "      <th>189</th>\n",
       "      <td>190</td>\n",
       "      <td>vw dasher</td>\n",
       "      <td>0</td>\n",
       "      <td>159.3</td>\n",
       "      <td>64.2</td>\n",
       "      <td>55.6</td>\n",
       "      <td>2254</td>\n",
       "      <td>four</td>\n",
       "      <td>109.000000</td>\n",
       "      <td>90.0</td>\n",
       "      <td>24</td>\n",
       "      <td>29</td>\n",
       "      <td>NaN</td>\n",
       "    </tr>\n",
       "  </tbody>\n",
       "</table>\n",
       "</div>"
      ],
      "text/plain": [
       "     car_ID                    CarName  fueltype  carlength  carwidth  \\\n",
       "4         5                 audi 100ls         0      176.6      66.4   \n",
       "29       30  dodge coronet custom (sw)         0      173.2      66.3   \n",
       "31       32           honda civic cvcc         0      144.6      63.9   \n",
       "52       53            mazda rx2 coupe         0      159.1      64.2   \n",
       "53       54                 mazda rx-4         0      166.8      64.2   \n",
       "59       60                  mazda 626         0      177.8      66.5   \n",
       "62       63                 mazda rx-4         0      177.8      66.5   \n",
       "67       68   buick electra 225 custom         1      190.9      70.3   \n",
       "78       79       mitsubishi outlander         0      157.3      64.4   \n",
       "84       85       mitsubishi mirage g4         0      173.2      66.3   \n",
       "87       88       mitsubishi outlander         0      172.4      65.4   \n",
       "88       89       mitsubishi mirage g4         0      172.4      65.4   \n",
       "104     105               nissan teana         0      170.7      67.9   \n",
       "123     124           plymouth valiant         0      174.6      64.6   \n",
       "136     137                 saab 99gle         0      186.6      66.5   \n",
       "137     138                   saab 99e         0      186.6      66.5   \n",
       "141     142                     subaru         0      172.0      65.4   \n",
       "149     150                  subaru dl         0      173.6      65.4   \n",
       "181     182             toyouta tercel         0      187.8      66.5   \n",
       "189     190                  vw dasher         0      159.3      64.2   \n",
       "\n",
       "     carheight  curbweight cylindernumber  enginesize  horsepower  citympg  \\\n",
       "4         54.3        2824           five  136.000000       115.0       18   \n",
       "29        50.2        2811           four  156.000000       145.0       19   \n",
       "31        50.8        1819           four   92.000000        76.0       31   \n",
       "52        54.1        1905           four   91.000000        68.0       31   \n",
       "53        54.1        1945           four   91.000000        68.0       31   \n",
       "59        53.7        2385           four  122.000000        84.0       26   \n",
       "62        55.5        2410           four  122.000000        84.0       26   \n",
       "67        56.5        3515           five  183.000000       123.0       22   \n",
       "78        50.8        2004           four   92.000000        68.0       31   \n",
       "84        50.2        2926           four  156.000000       145.0       19   \n",
       "87        51.6        2403           four  110.000000       116.0       23   \n",
       "88        51.6        2403           four  110.000000       116.0       23   \n",
       "104       49.7        3071            six  181.000000       160.0       19   \n",
       "123       59.8        2535           four  122.000000        88.0       24   \n",
       "136       56.1        2808           four  125.418848       160.0       19   \n",
       "137       56.1        2847           four  121.000000       160.0       19   \n",
       "141       52.5        2145           four  108.000000        82.0       32   \n",
       "149       54.9        2650           four  108.000000       111.0       23   \n",
       "181       54.1        3151            six  161.000000       156.0       19   \n",
       "189       55.6        2254           four  109.000000        90.0       24   \n",
       "\n",
       "     highwaympg  price  \n",
       "4            22    NaN  \n",
       "29           24    NaN  \n",
       "31           38    NaN  \n",
       "52           38    NaN  \n",
       "53           38    NaN  \n",
       "59           32    NaN  \n",
       "62           32    NaN  \n",
       "67           25    NaN  \n",
       "78           38    NaN  \n",
       "84           24    NaN  \n",
       "87           30    NaN  \n",
       "88           30    NaN  \n",
       "104          25    NaN  \n",
       "123          30    NaN  \n",
       "136          26    NaN  \n",
       "137          26    NaN  \n",
       "141          37    NaN  \n",
       "149          23    NaN  \n",
       "181          24    NaN  \n",
       "189          29    NaN  "
      ]
     },
     "execution_count": 22,
     "metadata": {},
     "output_type": "execute_result"
    }
   ],
   "source": [
    "test_df = df[df.isnull().any(axis=1)]\n",
    "df = df.dropna()\n",
    "test_df.head(20)"
   ]
  },
  {
   "cell_type": "markdown",
   "metadata": {},
   "source": [
    "# Part 4"
   ]
  },
  {
   "cell_type": "code",
   "execution_count": 23,
   "metadata": {},
   "outputs": [
    {
     "data": {
      "text/plain": [
       "cylindernumber\n",
       "eight       5\n",
       "five        9\n",
       "four      143\n",
       "six        22\n",
       "three       1\n",
       "twelve      1\n",
       "two         4\n",
       "Name: car_ID, dtype: int64"
      ]
     },
     "execution_count": 23,
     "metadata": {},
     "output_type": "execute_result"
    }
   ],
   "source": [
    "df.groupby(['cylindernumber']).count()['car_ID']"
   ]
  },
  {
   "cell_type": "markdown",
   "metadata": {},
   "source": [
    "# Part 5"
   ]
  },
  {
   "cell_type": "code",
   "execution_count": 24,
   "metadata": {},
   "outputs": [
    {
     "data": {
      "text/plain": [
       "3"
      ]
     },
     "execution_count": 24,
     "metadata": {},
     "output_type": "execute_result"
    }
   ],
   "source": [
    "df[(df['horsepower']>100)&(df['citympg']<15)&(df['fueltype']==0)].count()['car_ID']"
   ]
  },
  {
   "cell_type": "markdown",
   "metadata": {},
   "source": [
    "# Part 6,7"
   ]
  },
  {
   "cell_type": "code",
   "execution_count": 25,
   "metadata": {},
   "outputs": [
    {
     "name": "stdout",
     "output_type": "stream",
     "text": [
      "fueltype\n",
      "0    13170.738958\n",
      "1    15326.894737\n",
      "Name: price, dtype: float64\n",
      "-+- 0.0039899349212646484 seconds -+-\n"
     ]
    }
   ],
   "source": [
    "start_time = time.time()\n",
    "print(df.groupby(['fueltype']).mean()['price'])\n",
    "print(\"-+- %s seconds -+-\" % (time.time() - start_time))"
   ]
  },
  {
   "cell_type": "code",
   "execution_count": 26,
   "metadata": {},
   "outputs": [
    {
     "name": "stdout",
     "output_type": "stream",
     "text": [
      "13170.738957831325 15326.894736842105\n",
      "-+- 0.017951250076293945 seconds -+-\n"
     ]
    }
   ],
   "source": [
    "sum_of_gas = 0\n",
    "sum_of_disel = 0\n",
    "num_of_gas = 0\n",
    "num_of_disel = 0\n",
    "start_time = time.time()\n",
    "for index, row in df.iterrows():\n",
    "    if pd.notnull(row['price']):\n",
    "        if row['fueltype'] == 0:\n",
    "            num_of_gas += 1\n",
    "            sum_of_gas += row['price']\n",
    "        else:\n",
    "            num_of_disel += 1\n",
    "            sum_of_disel += row['price']\n",
    "print(sum_of_gas/num_of_gas,sum_of_disel/num_of_disel)\n",
    "print(\"-+- %s seconds -+-\" % (time.time() - start_time))"
   ]
  },
  {
   "cell_type": "markdown",
   "metadata": {},
   "source": [
    " # Part 8"
   ]
  },
  {
   "cell_type": "code",
   "execution_count": 27,
   "metadata": {},
   "outputs": [
    {
     "data": {
      "text/plain": [
       "array([[<AxesSubplot:title={'center':'price'}>]], dtype=object)"
      ]
     },
     "execution_count": 27,
     "metadata": {},
     "output_type": "execute_result"
    },
    {
     "data": {
      "image/png": "[encoded data removed]",
      "text/plain": [
       "<Figure size 432x288 with 1 Axes>"
      ]
     },
     "metadata": {
      "needs_background": "light"
     },
     "output_type": "display_data"
    }
   ],
   "source": [
    "df.hist(column='price')"
   ]
  },
  {
   "cell_type": "code",
   "execution_count": 28,
   "metadata": {},
   "outputs": [
    {
     "data": {
      "text/plain": [
       "array([[<AxesSubplot:title={'center':'carlength'}>]], dtype=object)"
      ]
     },
     "execution_count": 28,
     "metadata": {},
     "output_type": "execute_result"
    },
    {
     "data": {
      "image/png": "[encoded data removed]",
      "text/plain": [
       "<Figure size 432x288 with 1 Axes>"
      ]
     },
     "metadata": {
      "needs_background": "light"
     },
     "output_type": "display_data"
    }
   ],
   "source": [
    "df.hist(column='carlength')"
   ]
  },
  {
   "cell_type": "code",
   "execution_count": 29,
   "metadata": {},
   "outputs": [
    {
     "data": {
      "text/plain": [
       "array([[<AxesSubplot:title={'center':'carwidth'}>]], dtype=object)"
      ]
     },
     "execution_count": 29,
     "metadata": {},
     "output_type": "execute_result"
    },
    {
     "data": {
      "image/png": "[encoded data removed]",
      "text/plain": [
       "<Figure size 432x288 with 1 Axes>"
      ]
     },
     "metadata": {
      "needs_background": "light"
     },
     "output_type": "display_data"
    }
   ],
   "source": [
    "df.hist(column='carwidth')"
   ]
  },
  {
   "cell_type": "code",
   "execution_count": 30,
   "metadata": {},
   "outputs": [
    {
     "data": {
      "text/plain": [
       "array([[<AxesSubplot:title={'center':'carheight'}>]], dtype=object)"
      ]
     },
     "execution_count": 30,
     "metadata": {},
     "output_type": "execute_result"
    },
    {
     "data": {
      "image/png": "[encoded data removed]",
      "text/plain": [
       "<Figure size 432x288 with 1 Axes>"
      ]
     },
     "metadata": {
      "needs_background": "light"
     },
     "output_type": "display_data"
    }
   ],
   "source": [
    "df.hist(column='carheight')"
   ]
  },
  {
   "cell_type": "code",
   "execution_count": 31,
   "metadata": {},
   "outputs": [
    {
     "data": {
      "text/plain": [
       "array([[<AxesSubplot:title={'center':'curbweight'}>]], dtype=object)"
      ]
     },
     "execution_count": 31,
     "metadata": {},
     "output_type": "execute_result"
    },
    {
     "data": {
      "image/png": "[encoded data removed]",
      "text/plain": [
       "<Figure size 432x288 with 1 Axes>"
      ]
     },
     "metadata": {
      "needs_background": "light"
     },
     "output_type": "display_data"
    }
   ],
   "source": [
    "df.hist(column='curbweight')"
   ]
  },
  {
   "cell_type": "code",
   "execution_count": 32,
   "metadata": {},
   "outputs": [
    {
     "data": {
      "text/plain": [
       "array([[<AxesSubplot:title={'center':'enginesize'}>]], dtype=object)"
      ]
     },
     "execution_count": 32,
     "metadata": {},
     "output_type": "execute_result"
    },
    {
     "data": {
      "image/png": "[encoded data removed]",
      "text/plain": [
       "<Figure size 432x288 with 1 Axes>"
      ]
     },
     "metadata": {
      "needs_background": "light"
     },
     "output_type": "display_data"
    }
   ],
   "source": [
    "df.hist(column='enginesize')"
   ]
  },
  {
   "cell_type": "code",
   "execution_count": 33,
   "metadata": {},
   "outputs": [
    {
     "data": {
      "text/plain": [
       "array([[<AxesSubplot:title={'center':'horsepower'}>]], dtype=object)"
      ]
     },
     "execution_count": 33,
     "metadata": {},
     "output_type": "execute_result"
    },
    {
     "data": {
      "image/png": "[encoded data removed]",
      "text/plain": [
       "<Figure size 432x288 with 1 Axes>"
      ]
     },
     "metadata": {
      "needs_background": "light"
     },
     "output_type": "display_data"
    }
   ],
   "source": [
    "df.hist(column='horsepower')"
   ]
  },
  {
   "cell_type": "code",
   "execution_count": 34,
   "metadata": {},
   "outputs": [
    {
     "data": {
      "text/plain": [
       "array([[<AxesSubplot:title={'center':'citympg'}>]], dtype=object)"
      ]
     },
     "execution_count": 34,
     "metadata": {},
     "output_type": "execute_result"
    },
    {
     "data": {
      "image/png": "[encoded data removed]",
      "text/plain": [
       "<Figure size 432x288 with 1 Axes>"
      ]
     },
     "metadata": {
      "needs_background": "light"
     },
     "output_type": "display_data"
    }
   ],
   "source": [
    "df.hist(column='citympg')"
   ]
  },
  {
   "cell_type": "code",
   "execution_count": 35,
   "metadata": {},
   "outputs": [
    {
     "data": {
      "text/plain": [
       "array([[<AxesSubplot:title={'center':'highwaympg'}>]], dtype=object)"
      ]
     },
     "execution_count": 35,
     "metadata": {},
     "output_type": "execute_result"
    },
    {
     "data": {
      "image/png": "[encoded data removed]",
      "text/plain": [
       "<Figure size 432x288 with 1 Axes>"
      ]
     },
     "metadata": {
      "needs_background": "light"
     },
     "output_type": "display_data"
    }
   ],
   "source": [
    "df.hist(column='highwaympg')"
   ]
  },
  {
   "cell_type": "markdown",
   "metadata": {},
   "source": [
    "# Part 9"
   ]
  },
  {
   "cell_type": "code",
   "execution_count": 36,
   "metadata": {},
   "outputs": [
    {
     "data": {
      "text/html": [
       "<div>\n",
       "<style scoped>\n",
       "    .dataframe tbody tr th:only-of-type {\n",
       "        vertical-align: middle;\n",
       "    }\n",
       "\n",
       "    .dataframe tbody tr th {\n",
       "        vertical-align: top;\n",
       "    }\n",
       "\n",
       "    .dataframe thead th {\n",
       "        text-align: right;\n",
       "    }\n",
       "</style>\n",
       "<table border=\"1\" class=\"dataframe\">\n",
       "  <thead>\n",
       "    <tr style=\"text-align: right;\">\n",
       "      <th></th>\n",
       "      <th>car_ID</th>\n",
       "      <th>carlength</th>\n",
       "      <th>carwidth</th>\n",
       "      <th>carheight</th>\n",
       "      <th>curbweight</th>\n",
       "      <th>enginesize</th>\n",
       "      <th>horsepower</th>\n",
       "      <th>citympg</th>\n",
       "      <th>highwaympg</th>\n",
       "      <th>price</th>\n",
       "    </tr>\n",
       "  </thead>\n",
       "  <tbody>\n",
       "    <tr>\n",
       "      <th>0</th>\n",
       "      <td>1</td>\n",
       "      <td>168.8</td>\n",
       "      <td>64.1</td>\n",
       "      <td>48.8</td>\n",
       "      <td>2548</td>\n",
       "      <td>130.0</td>\n",
       "      <td>111.000000</td>\n",
       "      <td>21</td>\n",
       "      <td>27</td>\n",
       "      <td>13495.0</td>\n",
       "    </tr>\n",
       "    <tr>\n",
       "      <th>1</th>\n",
       "      <td>2</td>\n",
       "      <td>168.8</td>\n",
       "      <td>64.1</td>\n",
       "      <td>48.8</td>\n",
       "      <td>2548</td>\n",
       "      <td>130.0</td>\n",
       "      <td>111.000000</td>\n",
       "      <td>21</td>\n",
       "      <td>27</td>\n",
       "      <td>16500.0</td>\n",
       "    </tr>\n",
       "    <tr>\n",
       "      <th>2</th>\n",
       "      <td>3</td>\n",
       "      <td>171.2</td>\n",
       "      <td>65.5</td>\n",
       "      <td>52.4</td>\n",
       "      <td>2823</td>\n",
       "      <td>152.0</td>\n",
       "      <td>154.000000</td>\n",
       "      <td>19</td>\n",
       "      <td>26</td>\n",
       "      <td>16500.0</td>\n",
       "    </tr>\n",
       "    <tr>\n",
       "      <th>3</th>\n",
       "      <td>4</td>\n",
       "      <td>176.6</td>\n",
       "      <td>66.2</td>\n",
       "      <td>54.3</td>\n",
       "      <td>2337</td>\n",
       "      <td>109.0</td>\n",
       "      <td>105.747253</td>\n",
       "      <td>24</td>\n",
       "      <td>30</td>\n",
       "      <td>13950.0</td>\n",
       "    </tr>\n",
       "    <tr>\n",
       "      <th>5</th>\n",
       "      <td>6</td>\n",
       "      <td>177.3</td>\n",
       "      <td>66.3</td>\n",
       "      <td>53.1</td>\n",
       "      <td>2507</td>\n",
       "      <td>136.0</td>\n",
       "      <td>110.000000</td>\n",
       "      <td>19</td>\n",
       "      <td>25</td>\n",
       "      <td>15250.0</td>\n",
       "    </tr>\n",
       "  </tbody>\n",
       "</table>\n",
       "</div>"
      ],
      "text/plain": [
       "   car_ID  carlength  carwidth  carheight  curbweight  enginesize  horsepower  \\\n",
       "0       1      168.8      64.1       48.8        2548       130.0  111.000000   \n",
       "1       2      168.8      64.1       48.8        2548       130.0  111.000000   \n",
       "2       3      171.2      65.5       52.4        2823       152.0  154.000000   \n",
       "3       4      176.6      66.2       54.3        2337       109.0  105.747253   \n",
       "5       6      177.3      66.3       53.1        2507       136.0  110.000000   \n",
       "\n",
       "   citympg  highwaympg    price  \n",
       "0       21          27  13495.0  \n",
       "1       21          27  16500.0  \n",
       "2       19          26  16500.0  \n",
       "3       24          30  13950.0  \n",
       "5       19          25  15250.0  "
      ]
     },
     "execution_count": 36,
     "metadata": {},
     "output_type": "execute_result"
    }
   ],
   "source": [
    "numeric_df = df.drop(columns=['CarName', 'fueltype','cylindernumber'])\n",
    "numeric_df.head()"
   ]
  },
  {
   "cell_type": "code",
   "execution_count": 37,
   "metadata": {},
   "outputs": [
    {
     "data": {
      "text/html": [
       "<div>\n",
       "<style scoped>\n",
       "    .dataframe tbody tr th:only-of-type {\n",
       "        vertical-align: middle;\n",
       "    }\n",
       "\n",
       "    .dataframe tbody tr th {\n",
       "        vertical-align: top;\n",
       "    }\n",
       "\n",
       "    .dataframe thead th {\n",
       "        text-align: right;\n",
       "    }\n",
       "</style>\n",
       "<table border=\"1\" class=\"dataframe\">\n",
       "  <thead>\n",
       "    <tr style=\"text-align: right;\">\n",
       "      <th></th>\n",
       "      <th>car_ID</th>\n",
       "      <th>carlength</th>\n",
       "      <th>carwidth</th>\n",
       "      <th>carheight</th>\n",
       "      <th>curbweight</th>\n",
       "      <th>enginesize</th>\n",
       "      <th>horsepower</th>\n",
       "      <th>citympg</th>\n",
       "      <th>highwaympg</th>\n",
       "      <th>price</th>\n",
       "    </tr>\n",
       "  </thead>\n",
       "  <tbody>\n",
       "    <tr>\n",
       "      <th>0</th>\n",
       "      <td>1</td>\n",
       "      <td>168.8</td>\n",
       "      <td>64.1</td>\n",
       "      <td>48.8</td>\n",
       "      <td>2548</td>\n",
       "      <td>130.0</td>\n",
       "      <td>111.000000</td>\n",
       "      <td>21</td>\n",
       "      <td>27</td>\n",
       "      <td>0.012484</td>\n",
       "    </tr>\n",
       "    <tr>\n",
       "      <th>1</th>\n",
       "      <td>2</td>\n",
       "      <td>168.8</td>\n",
       "      <td>64.1</td>\n",
       "      <td>48.8</td>\n",
       "      <td>2548</td>\n",
       "      <td>130.0</td>\n",
       "      <td>111.000000</td>\n",
       "      <td>21</td>\n",
       "      <td>27</td>\n",
       "      <td>0.377353</td>\n",
       "    </tr>\n",
       "    <tr>\n",
       "      <th>2</th>\n",
       "      <td>3</td>\n",
       "      <td>171.2</td>\n",
       "      <td>65.5</td>\n",
       "      <td>52.4</td>\n",
       "      <td>2823</td>\n",
       "      <td>152.0</td>\n",
       "      <td>154.000000</td>\n",
       "      <td>19</td>\n",
       "      <td>26</td>\n",
       "      <td>0.377353</td>\n",
       "    </tr>\n",
       "    <tr>\n",
       "      <th>3</th>\n",
       "      <td>4</td>\n",
       "      <td>176.6</td>\n",
       "      <td>66.2</td>\n",
       "      <td>54.3</td>\n",
       "      <td>2337</td>\n",
       "      <td>109.0</td>\n",
       "      <td>105.747253</td>\n",
       "      <td>24</td>\n",
       "      <td>30</td>\n",
       "      <td>0.067731</td>\n",
       "    </tr>\n",
       "    <tr>\n",
       "      <th>5</th>\n",
       "      <td>6</td>\n",
       "      <td>177.3</td>\n",
       "      <td>66.3</td>\n",
       "      <td>53.1</td>\n",
       "      <td>2507</td>\n",
       "      <td>136.0</td>\n",
       "      <td>110.000000</td>\n",
       "      <td>19</td>\n",
       "      <td>25</td>\n",
       "      <td>0.225577</td>\n",
       "    </tr>\n",
       "  </tbody>\n",
       "</table>\n",
       "</div>"
      ],
      "text/plain": [
       "   car_ID  carlength  carwidth  carheight  curbweight  enginesize  horsepower  \\\n",
       "0       1      168.8      64.1       48.8        2548       130.0  111.000000   \n",
       "1       2      168.8      64.1       48.8        2548       130.0  111.000000   \n",
       "2       3      171.2      65.5       52.4        2823       152.0  154.000000   \n",
       "3       4      176.6      66.2       54.3        2337       109.0  105.747253   \n",
       "5       6      177.3      66.3       53.1        2507       136.0  110.000000   \n",
       "\n",
       "   citympg  highwaympg     price  \n",
       "0       21          27  0.012484  \n",
       "1       21          27  0.377353  \n",
       "2       19          26  0.377353  \n",
       "3       24          30  0.067731  \n",
       "5       19          25  0.225577  "
      ]
     },
     "execution_count": 37,
     "metadata": {},
     "output_type": "execute_result"
    }
   ],
   "source": [
    "numeric_df['price'] = (numeric_df['price']-numeric_df['price'].mean())/numeric_df['price'].std()\n",
    "numeric_df.head()"
   ]
  },
  {
   "cell_type": "markdown",
   "metadata": {},
   "source": [
    "# Part10"
   ]
  },
  {
   "cell_type": "code",
   "execution_count": 38,
   "metadata": {},
   "outputs": [
    {
     "data": {
      "image/png": "[encoded data removed]",
      "text/plain": [
       "<Figure size 432x288 with 1 Axes>"
      ]
     },
     "metadata": {
      "needs_background": "light"
     },
     "output_type": "display_data"
    }
   ],
   "source": [
    "y = numeric_df['price']\n",
    "x = numeric_df['carlength']\n",
    "plt.scatter(x, y);"
   ]
  },
  {
   "cell_type": "code",
   "execution_count": 39,
   "metadata": {},
   "outputs": [
    {
     "data": {
      "image/png": "[encoded data removed]",
      "text/plain": [
       "<Figure size 432x288 with 1 Axes>"
      ]
     },
     "metadata": {
      "needs_background": "light"
     },
     "output_type": "display_data"
    }
   ],
   "source": [
    "x = numeric_df['carwidth']\n",
    "plt.scatter(x, y);"
   ]
  },
  {
   "cell_type": "code",
   "execution_count": 40,
   "metadata": {},
   "outputs": [
    {
     "data": {
      "image/png": "[encoded data removed]",
      "text/plain": [
       "<Figure size 432x288 with 1 Axes>"
      ]
     },
     "metadata": {
      "needs_background": "light"
     },
     "output_type": "display_data"
    }
   ],
   "source": [
    "x = numeric_df['carheight']\n",
    "plt.scatter(x, y);"
   ]
  },
  {
   "cell_type": "code",
   "execution_count": 41,
   "metadata": {},
   "outputs": [
    {
     "data": {
      "image/png": "[encoded data removed]",
      "text/plain": [
       "<Figure size 432x288 with 1 Axes>"
      ]
     },
     "metadata": {
      "needs_background": "light"
     },
     "output_type": "display_data"
    }
   ],
   "source": [
    "x = numeric_df['curbweight']\n",
    "plt.scatter(x, y);"
   ]
  },
  {
   "cell_type": "code",
   "execution_count": 42,
   "metadata": {},
   "outputs": [
    {
     "data": {
      "image/png": "[encoded data removed]",
      "text/plain": [
       "<Figure size 432x288 with 1 Axes>"
      ]
     },
     "metadata": {
      "needs_background": "light"
     },
     "output_type": "display_data"
    }
   ],
   "source": [
    "x = numeric_df['enginesize']\n",
    "plt.scatter(x, y);"
   ]
  },
  {
   "cell_type": "code",
   "execution_count": 43,
   "metadata": {},
   "outputs": [
    {
     "data": {
      "image/png": "[encoded data removed]",
      "text/plain": [
       "<Figure size 432x288 with 1 Axes>"
      ]
     },
     "metadata": {
      "needs_background": "light"
     },
     "output_type": "display_data"
    }
   ],
   "source": [
    "x = numeric_df['horsepower']\n",
    "plt.scatter(x, y);"
   ]
  },
  {
   "cell_type": "code",
   "execution_count": 44,
   "metadata": {},
   "outputs": [
    {
     "data": {
      "image/png": "[encoded data removed]",
      "text/plain": [
       "<Figure size 432x288 with 1 Axes>"
      ]
     },
     "metadata": {
      "needs_background": "light"
     },
     "output_type": "display_data"
    }
   ],
   "source": [
    "x = numeric_df['citympg']\n",
    "plt.scatter(x, y);"
   ]
  },
  {
   "cell_type": "code",
   "execution_count": 45,
   "metadata": {},
   "outputs": [
    {
     "data": {
      "image/png": "[encoded data removed]",
      "text/plain": [
       "<Figure size 432x288 with 1 Axes>"
      ]
     },
     "metadata": {
      "needs_background": "light"
     },
     "output_type": "display_data"
    }
   ],
   "source": [
    "x = numeric_df['highwaympg']\n",
    "plt.scatter(x, y);"
   ]
  },
  {
   "cell_type": "markdown",
   "metadata": {
    "direction": "rtl"
   },
   "source": [
    "حال باید بین روابط بالا رابطه ای که بیشترین میزان خطی بودن را دارد انتخاب کنیم: در اینجا به صورت چشمی متغیر curbweight گزینه خوبی به نظر میرسد اما 2 متغیر horsepower,enginesize نیز کاندید های خوبی به نظر میرسند پس در اینجا برای پیدا کردن بهترین همبستگی از تابع همبستگی خود پانداس استفاده میکنیم که نتایج آن در زیر آمده است(البته باید به مقدار این اعداد فارغ از علامت آنها توجه کرد)  "
   ]
  },
  {
   "cell_type": "code",
   "execution_count": 46,
   "metadata": {},
   "outputs": [
    {
     "data": {
      "text/plain": [
       "car_ID       -0.125255\n",
       "carlength     0.683104\n",
       "carwidth      0.755490\n",
       "carheight     0.111783\n",
       "curbweight    0.833602\n",
       "enginesize    0.794026\n",
       "horsepower    0.769182\n",
       "citympg      -0.687151\n",
       "highwaympg   -0.698832\n",
       "price         1.000000\n",
       "Name: price, dtype: float64"
      ]
     },
     "execution_count": 46,
     "metadata": {},
     "output_type": "execute_result"
    }
   ],
   "source": [
    "numeric_df.corr()['price']\n",
    "#based on corr() resault we choose curbweight"
   ]
  },
  {
   "cell_type": "markdown",
   "metadata": {},
   "source": [
    "# Part11,12"
   ]
  },
  {
   "cell_type": "code",
   "execution_count": 47,
   "metadata": {},
   "outputs": [
    {
     "data": {
      "text/html": [
       "<div>\n",
       "<style scoped>\n",
       "    .dataframe tbody tr th:only-of-type {\n",
       "        vertical-align: middle;\n",
       "    }\n",
       "\n",
       "    .dataframe tbody tr th {\n",
       "        vertical-align: top;\n",
       "    }\n",
       "\n",
       "    .dataframe thead th {\n",
       "        text-align: right;\n",
       "    }\n",
       "</style>\n",
       "<table border=\"1\" class=\"dataframe\">\n",
       "  <thead>\n",
       "    <tr style=\"text-align: right;\">\n",
       "      <th></th>\n",
       "      <th>car_ID</th>\n",
       "      <th>curbweight</th>\n",
       "      <th>price</th>\n",
       "    </tr>\n",
       "  </thead>\n",
       "  <tbody>\n",
       "    <tr>\n",
       "      <th>0</th>\n",
       "      <td>1</td>\n",
       "      <td>2548</td>\n",
       "      <td>0.012484</td>\n",
       "    </tr>\n",
       "    <tr>\n",
       "      <th>1</th>\n",
       "      <td>2</td>\n",
       "      <td>2548</td>\n",
       "      <td>0.377353</td>\n",
       "    </tr>\n",
       "    <tr>\n",
       "      <th>2</th>\n",
       "      <td>3</td>\n",
       "      <td>2823</td>\n",
       "      <td>0.377353</td>\n",
       "    </tr>\n",
       "    <tr>\n",
       "      <th>3</th>\n",
       "      <td>4</td>\n",
       "      <td>2337</td>\n",
       "      <td>0.067731</td>\n",
       "    </tr>\n",
       "    <tr>\n",
       "      <th>5</th>\n",
       "      <td>6</td>\n",
       "      <td>2507</td>\n",
       "      <td>0.225577</td>\n",
       "    </tr>\n",
       "  </tbody>\n",
       "</table>\n",
       "</div>"
      ],
      "text/plain": [
       "   car_ID  curbweight     price\n",
       "0       1        2548  0.012484\n",
       "1       2        2548  0.377353\n",
       "2       3        2823  0.377353\n",
       "3       4        2337  0.067731\n",
       "5       6        2507  0.225577"
      ]
     },
     "execution_count": 47,
     "metadata": {},
     "output_type": "execute_result"
    }
   ],
   "source": [
    "\n",
    "final_df = numeric_df[['car_ID','curbweight','price']]\n",
    "final_df.head()"
   ]
  },
  {
   "cell_type": "markdown",
   "metadata": {
    "direction": "rtl"
   },
   "source": [
    "در اینجا برای یک رگرسیون خطی و محاسبه شیب از رابطه ای که از کمینه کردن تابع میانگین خطای مربعی بدست آمده است استفاده میکنیم و از شیب برای محاسبه عرض از مبدا استفاده میشود؛ که برای راحتی تمامی محاسبات از جمله پیشبینی مقدار نهایی در درون یک کلاس قرار میگیرد. "
   ]
  },
  {
   "cell_type": "markdown",
   "metadata": {
    "direction": "rtl"
   },
   "source": [
    " توجه شود که تابع میانگین خطای مربعی نیز در همین کلاس پیاده سازی شده است"
   ]
  },
  {
   "cell_type": "code",
   "execution_count": 48,
   "metadata": {},
   "outputs": [],
   "source": [
    "class Linear_Regression:\n",
    "    def __init__(self):\n",
    "        self.x = 0\n",
    "        self.y = 0\n",
    "        self.alpha0 = 0\n",
    "        self.alpha1 = 0\n",
    "        self.coefficients = [self.alpha0, self.alpha1]\n",
    "    \n",
    "    def fit(self, x, y):\n",
    "        self.x = np.array(x)\n",
    "        self.y = np.array(y)\n",
    "        \n",
    "        \n",
    "        \n",
    "        self.alpha1 = np.sum((self.x - np.mean(self.x))*(self.y - np.mean(self.y)))/np.sum(np.power(self.x - np.mean(self.x),2))\n",
    "        self.alpha0 = (np.mean(self.y)-(np.mean(self.x))*self.alpha1)\n",
    "        \n",
    "        self.coefficients = [self.alpha0, self.alpha1]\n",
    "        return self\n",
    "    \n",
    "    def predict(self, x):\n",
    "        return (x*self.alpha1) + self.alpha0\n",
    "    \n",
    "    def mean_squared_error(self, y_test, y_pred):\n",
    "        \n",
    "        return (np.sum(np.power((y_test-y_pred),2)))/len(y_test)"
   ]
  },
  {
   "cell_type": "code",
   "execution_count": 49,
   "metadata": {},
   "outputs": [
    {
     "name": "stdout",
     "output_type": "stream",
     "text": [
      "0.30345776161379706\n"
     ]
    }
   ],
   "source": [
    "price_predictor = Linear_Regression()\n",
    "price_predictor.fit(final_df['curbweight'],final_df['price'])\n",
    "predicted_price = price_predictor.predict(final_df['curbweight'])\n",
    "MSE = price_predictor.mean_squared_error(final_df['price'], predicted_price)\n",
    "print(MSE)"
   ]
  },
  {
   "cell_type": "code",
   "execution_count": 50,
   "metadata": {},
   "outputs": [
    {
     "name": "stderr",
     "output_type": "stream",
     "text": [
      "<ipython-input-50-e51fa945b5fd>:1: SettingWithCopyWarning: \n",
      "A value is trying to be set on a copy of a slice from a DataFrame.\n",
      "Try using .loc[row_indexer,col_indexer] = value instead\n",
      "\n",
      "See the caveats in the documentation: https://pandas.pydata.org/pandas-docs/stable/user_guide/indexing.html#returning-a-view-versus-a-copy\n",
      "  final_df['predicted_price'] = predicted_price\n"
     ]
    },
    {
     "data": {
      "text/html": [
       "<div>\n",
       "<style scoped>\n",
       "    .dataframe tbody tr th:only-of-type {\n",
       "        vertical-align: middle;\n",
       "    }\n",
       "\n",
       "    .dataframe tbody tr th {\n",
       "        vertical-align: top;\n",
       "    }\n",
       "\n",
       "    .dataframe thead th {\n",
       "        text-align: right;\n",
       "    }\n",
       "</style>\n",
       "<table border=\"1\" class=\"dataframe\">\n",
       "  <thead>\n",
       "    <tr style=\"text-align: right;\">\n",
       "      <th></th>\n",
       "      <th>car_ID</th>\n",
       "      <th>curbweight</th>\n",
       "      <th>price</th>\n",
       "      <th>predicted_price</th>\n",
       "    </tr>\n",
       "  </thead>\n",
       "  <tbody>\n",
       "    <tr>\n",
       "      <th>0</th>\n",
       "      <td>1</td>\n",
       "      <td>2548</td>\n",
       "      <td>0.012484</td>\n",
       "      <td>-0.014503</td>\n",
       "    </tr>\n",
       "    <tr>\n",
       "      <th>1</th>\n",
       "      <td>2</td>\n",
       "      <td>2548</td>\n",
       "      <td>0.377353</td>\n",
       "      <td>-0.014503</td>\n",
       "    </tr>\n",
       "    <tr>\n",
       "      <th>2</th>\n",
       "      <td>3</td>\n",
       "      <td>2823</td>\n",
       "      <td>0.377353</td>\n",
       "      <td>0.419509</td>\n",
       "    </tr>\n",
       "    <tr>\n",
       "      <th>3</th>\n",
       "      <td>4</td>\n",
       "      <td>2337</td>\n",
       "      <td>0.067731</td>\n",
       "      <td>-0.347508</td>\n",
       "    </tr>\n",
       "    <tr>\n",
       "      <th>5</th>\n",
       "      <td>6</td>\n",
       "      <td>2507</td>\n",
       "      <td>0.225577</td>\n",
       "      <td>-0.079210</td>\n",
       "    </tr>\n",
       "  </tbody>\n",
       "</table>\n",
       "</div>"
      ],
      "text/plain": [
       "   car_ID  curbweight     price  predicted_price\n",
       "0       1        2548  0.012484        -0.014503\n",
       "1       2        2548  0.377353        -0.014503\n",
       "2       3        2823  0.377353         0.419509\n",
       "3       4        2337  0.067731        -0.347508\n",
       "5       6        2507  0.225577        -0.079210"
      ]
     },
     "execution_count": 50,
     "metadata": {},
     "output_type": "execute_result"
    }
   ],
   "source": [
    "final_df['predicted_price'] = predicted_price\n",
    "final_df.head()"
   ]
  },
  {
   "cell_type": "markdown",
   "metadata": {},
   "source": [
    "# Part13"
   ]
  },
  {
   "cell_type": "code",
   "execution_count": 51,
   "metadata": {},
   "outputs": [
    {
     "data": {
      "text/plain": [
       "[<matplotlib.lines.Line2D at 0x21fb2c984c0>]"
      ]
     },
     "execution_count": 51,
     "metadata": {},
     "output_type": "execute_result"
    },
    {
     "data": {
      "image/png": "[encoded data removed]",
      "text/plain": [
       "<Figure size 432x288 with 1 Axes>"
      ]
     },
     "metadata": {
      "needs_background": "light"
     },
     "output_type": "display_data"
    }
   ],
   "source": [
    "plt.scatter(final_df['curbweight'], final_df['price'])\n",
    "plt.plot(final_df['curbweight'], predicted_price,c='r')"
   ]
  },
  {
   "cell_type": "markdown",
   "metadata": {},
   "source": [
    "# Part14"
   ]
  },
  {
   "cell_type": "code",
   "execution_count": 52,
   "metadata": {},
   "outputs": [
    {
     "data": {
      "text/html": [
       "<div>\n",
       "<style scoped>\n",
       "    .dataframe tbody tr th:only-of-type {\n",
       "        vertical-align: middle;\n",
       "    }\n",
       "\n",
       "    .dataframe tbody tr th {\n",
       "        vertical-align: top;\n",
       "    }\n",
       "\n",
       "    .dataframe thead th {\n",
       "        text-align: right;\n",
       "    }\n",
       "</style>\n",
       "<table border=\"1\" class=\"dataframe\">\n",
       "  <thead>\n",
       "    <tr style=\"text-align: right;\">\n",
       "      <th></th>\n",
       "      <th>car_ID</th>\n",
       "      <th>CarName</th>\n",
       "      <th>fueltype</th>\n",
       "      <th>carlength</th>\n",
       "      <th>carwidth</th>\n",
       "      <th>carheight</th>\n",
       "      <th>curbweight</th>\n",
       "      <th>cylindernumber</th>\n",
       "      <th>enginesize</th>\n",
       "      <th>horsepower</th>\n",
       "      <th>citympg</th>\n",
       "      <th>highwaympg</th>\n",
       "      <th>price</th>\n",
       "      <th>predicted_price</th>\n",
       "    </tr>\n",
       "  </thead>\n",
       "  <tbody>\n",
       "    <tr>\n",
       "      <th>4</th>\n",
       "      <td>5</td>\n",
       "      <td>audi 100ls</td>\n",
       "      <td>0</td>\n",
       "      <td>176.6</td>\n",
       "      <td>66.4</td>\n",
       "      <td>54.3</td>\n",
       "      <td>2824</td>\n",
       "      <td>five</td>\n",
       "      <td>136.0</td>\n",
       "      <td>115.0</td>\n",
       "      <td>18</td>\n",
       "      <td>22</td>\n",
       "      <td>NaN</td>\n",
       "      <td>0.421088</td>\n",
       "    </tr>\n",
       "    <tr>\n",
       "      <th>29</th>\n",
       "      <td>30</td>\n",
       "      <td>dodge coronet custom (sw)</td>\n",
       "      <td>0</td>\n",
       "      <td>173.2</td>\n",
       "      <td>66.3</td>\n",
       "      <td>50.2</td>\n",
       "      <td>2811</td>\n",
       "      <td>four</td>\n",
       "      <td>156.0</td>\n",
       "      <td>145.0</td>\n",
       "      <td>19</td>\n",
       "      <td>24</td>\n",
       "      <td>NaN</td>\n",
       "      <td>0.400571</td>\n",
       "    </tr>\n",
       "    <tr>\n",
       "      <th>31</th>\n",
       "      <td>32</td>\n",
       "      <td>honda civic cvcc</td>\n",
       "      <td>0</td>\n",
       "      <td>144.6</td>\n",
       "      <td>63.9</td>\n",
       "      <td>50.8</td>\n",
       "      <td>1819</td>\n",
       "      <td>four</td>\n",
       "      <td>92.0</td>\n",
       "      <td>76.0</td>\n",
       "      <td>31</td>\n",
       "      <td>38</td>\n",
       "      <td>NaN</td>\n",
       "      <td>-1.165029</td>\n",
       "    </tr>\n",
       "    <tr>\n",
       "      <th>52</th>\n",
       "      <td>53</td>\n",
       "      <td>mazda rx2 coupe</td>\n",
       "      <td>0</td>\n",
       "      <td>159.1</td>\n",
       "      <td>64.2</td>\n",
       "      <td>54.1</td>\n",
       "      <td>1905</td>\n",
       "      <td>four</td>\n",
       "      <td>91.0</td>\n",
       "      <td>68.0</td>\n",
       "      <td>31</td>\n",
       "      <td>38</td>\n",
       "      <td>NaN</td>\n",
       "      <td>-1.029301</td>\n",
       "    </tr>\n",
       "    <tr>\n",
       "      <th>53</th>\n",
       "      <td>54</td>\n",
       "      <td>mazda rx-4</td>\n",
       "      <td>0</td>\n",
       "      <td>166.8</td>\n",
       "      <td>64.2</td>\n",
       "      <td>54.1</td>\n",
       "      <td>1945</td>\n",
       "      <td>four</td>\n",
       "      <td>91.0</td>\n",
       "      <td>68.0</td>\n",
       "      <td>31</td>\n",
       "      <td>38</td>\n",
       "      <td>NaN</td>\n",
       "      <td>-0.966172</td>\n",
       "    </tr>\n",
       "    <tr>\n",
       "      <th>59</th>\n",
       "      <td>60</td>\n",
       "      <td>mazda 626</td>\n",
       "      <td>0</td>\n",
       "      <td>177.8</td>\n",
       "      <td>66.5</td>\n",
       "      <td>53.7</td>\n",
       "      <td>2385</td>\n",
       "      <td>four</td>\n",
       "      <td>122.0</td>\n",
       "      <td>84.0</td>\n",
       "      <td>26</td>\n",
       "      <td>32</td>\n",
       "      <td>NaN</td>\n",
       "      <td>-0.271753</td>\n",
       "    </tr>\n",
       "    <tr>\n",
       "      <th>62</th>\n",
       "      <td>63</td>\n",
       "      <td>mazda rx-4</td>\n",
       "      <td>0</td>\n",
       "      <td>177.8</td>\n",
       "      <td>66.5</td>\n",
       "      <td>55.5</td>\n",
       "      <td>2410</td>\n",
       "      <td>four</td>\n",
       "      <td>122.0</td>\n",
       "      <td>84.0</td>\n",
       "      <td>26</td>\n",
       "      <td>32</td>\n",
       "      <td>NaN</td>\n",
       "      <td>-0.232298</td>\n",
       "    </tr>\n",
       "    <tr>\n",
       "      <th>67</th>\n",
       "      <td>68</td>\n",
       "      <td>buick electra 225 custom</td>\n",
       "      <td>1</td>\n",
       "      <td>190.9</td>\n",
       "      <td>70.3</td>\n",
       "      <td>56.5</td>\n",
       "      <td>3515</td>\n",
       "      <td>five</td>\n",
       "      <td>183.0</td>\n",
       "      <td>123.0</td>\n",
       "      <td>22</td>\n",
       "      <td>25</td>\n",
       "      <td>NaN</td>\n",
       "      <td>1.511641</td>\n",
       "    </tr>\n",
       "    <tr>\n",
       "      <th>78</th>\n",
       "      <td>79</td>\n",
       "      <td>mitsubishi outlander</td>\n",
       "      <td>0</td>\n",
       "      <td>157.3</td>\n",
       "      <td>64.4</td>\n",
       "      <td>50.8</td>\n",
       "      <td>2004</td>\n",
       "      <td>four</td>\n",
       "      <td>92.0</td>\n",
       "      <td>68.0</td>\n",
       "      <td>31</td>\n",
       "      <td>38</td>\n",
       "      <td>NaN</td>\n",
       "      <td>-0.873057</td>\n",
       "    </tr>\n",
       "    <tr>\n",
       "      <th>84</th>\n",
       "      <td>85</td>\n",
       "      <td>mitsubishi mirage g4</td>\n",
       "      <td>0</td>\n",
       "      <td>173.2</td>\n",
       "      <td>66.3</td>\n",
       "      <td>50.2</td>\n",
       "      <td>2926</td>\n",
       "      <td>four</td>\n",
       "      <td>156.0</td>\n",
       "      <td>145.0</td>\n",
       "      <td>19</td>\n",
       "      <td>24</td>\n",
       "      <td>NaN</td>\n",
       "      <td>0.582066</td>\n",
       "    </tr>\n",
       "  </tbody>\n",
       "</table>\n",
       "</div>"
      ],
      "text/plain": [
       "    car_ID                    CarName  fueltype  carlength  carwidth  \\\n",
       "4        5                 audi 100ls         0      176.6      66.4   \n",
       "29      30  dodge coronet custom (sw)         0      173.2      66.3   \n",
       "31      32           honda civic cvcc         0      144.6      63.9   \n",
       "52      53            mazda rx2 coupe         0      159.1      64.2   \n",
       "53      54                 mazda rx-4         0      166.8      64.2   \n",
       "59      60                  mazda 626         0      177.8      66.5   \n",
       "62      63                 mazda rx-4         0      177.8      66.5   \n",
       "67      68   buick electra 225 custom         1      190.9      70.3   \n",
       "78      79       mitsubishi outlander         0      157.3      64.4   \n",
       "84      85       mitsubishi mirage g4         0      173.2      66.3   \n",
       "\n",
       "    carheight  curbweight cylindernumber  enginesize  horsepower  citympg  \\\n",
       "4        54.3        2824           five       136.0       115.0       18   \n",
       "29       50.2        2811           four       156.0       145.0       19   \n",
       "31       50.8        1819           four        92.0        76.0       31   \n",
       "52       54.1        1905           four        91.0        68.0       31   \n",
       "53       54.1        1945           four        91.0        68.0       31   \n",
       "59       53.7        2385           four       122.0        84.0       26   \n",
       "62       55.5        2410           four       122.0        84.0       26   \n",
       "67       56.5        3515           five       183.0       123.0       22   \n",
       "78       50.8        2004           four        92.0        68.0       31   \n",
       "84       50.2        2926           four       156.0       145.0       19   \n",
       "\n",
       "    highwaympg  price  predicted_price  \n",
       "4           22    NaN         0.421088  \n",
       "29          24    NaN         0.400571  \n",
       "31          38    NaN        -1.165029  \n",
       "52          38    NaN        -1.029301  \n",
       "53          38    NaN        -0.966172  \n",
       "59          32    NaN        -0.271753  \n",
       "62          32    NaN        -0.232298  \n",
       "67          25    NaN         1.511641  \n",
       "78          38    NaN        -0.873057  \n",
       "84          24    NaN         0.582066  "
      ]
     },
     "execution_count": 52,
     "metadata": {},
     "output_type": "execute_result"
    }
   ],
   "source": [
    "predicted_price_of_test_df = price_predictor.predict(test_df['curbweight'])\n",
    "test_df['predicted_price'] = predicted_price_of_test_df\n",
    "test_df.head(10)"
   ]
  },
  {
   "cell_type": "code",
   "execution_count": 53,
   "metadata": {},
   "outputs": [
    {
     "data": {
      "text/html": [
       "<div>\n",
       "<style scoped>\n",
       "    .dataframe tbody tr th:only-of-type {\n",
       "        vertical-align: middle;\n",
       "    }\n",
       "\n",
       "    .dataframe tbody tr th {\n",
       "        vertical-align: top;\n",
       "    }\n",
       "\n",
       "    .dataframe thead th {\n",
       "        text-align: right;\n",
       "    }\n",
       "</style>\n",
       "<table border=\"1\" class=\"dataframe\">\n",
       "  <thead>\n",
       "    <tr style=\"text-align: right;\">\n",
       "      <th></th>\n",
       "      <th>car_ID</th>\n",
       "      <th>predicted_price</th>\n",
       "    </tr>\n",
       "  </thead>\n",
       "  <tbody>\n",
       "    <tr>\n",
       "      <th>4</th>\n",
       "      <td>5</td>\n",
       "      <td>0.421088</td>\n",
       "    </tr>\n",
       "    <tr>\n",
       "      <th>29</th>\n",
       "      <td>30</td>\n",
       "      <td>0.400571</td>\n",
       "    </tr>\n",
       "    <tr>\n",
       "      <th>31</th>\n",
       "      <td>32</td>\n",
       "      <td>-1.165029</td>\n",
       "    </tr>\n",
       "    <tr>\n",
       "      <th>52</th>\n",
       "      <td>53</td>\n",
       "      <td>-1.029301</td>\n",
       "    </tr>\n",
       "    <tr>\n",
       "      <th>53</th>\n",
       "      <td>54</td>\n",
       "      <td>-0.966172</td>\n",
       "    </tr>\n",
       "    <tr>\n",
       "      <th>59</th>\n",
       "      <td>60</td>\n",
       "      <td>-0.271753</td>\n",
       "    </tr>\n",
       "    <tr>\n",
       "      <th>62</th>\n",
       "      <td>63</td>\n",
       "      <td>-0.232298</td>\n",
       "    </tr>\n",
       "    <tr>\n",
       "      <th>67</th>\n",
       "      <td>68</td>\n",
       "      <td>1.511641</td>\n",
       "    </tr>\n",
       "    <tr>\n",
       "      <th>78</th>\n",
       "      <td>79</td>\n",
       "      <td>-0.873057</td>\n",
       "    </tr>\n",
       "    <tr>\n",
       "      <th>84</th>\n",
       "      <td>85</td>\n",
       "      <td>0.582066</td>\n",
       "    </tr>\n",
       "    <tr>\n",
       "      <th>87</th>\n",
       "      <td>88</td>\n",
       "      <td>-0.243345</td>\n",
       "    </tr>\n",
       "    <tr>\n",
       "      <th>88</th>\n",
       "      <td>89</td>\n",
       "      <td>-0.243345</td>\n",
       "    </tr>\n",
       "    <tr>\n",
       "      <th>104</th>\n",
       "      <td>105</td>\n",
       "      <td>0.810909</td>\n",
       "    </tr>\n",
       "    <tr>\n",
       "      <th>123</th>\n",
       "      <td>124</td>\n",
       "      <td>-0.035020</td>\n",
       "    </tr>\n",
       "    <tr>\n",
       "      <th>136</th>\n",
       "      <td>137</td>\n",
       "      <td>0.395836</td>\n",
       "    </tr>\n",
       "    <tr>\n",
       "      <th>137</th>\n",
       "      <td>138</td>\n",
       "      <td>0.457387</td>\n",
       "    </tr>\n",
       "    <tr>\n",
       "      <th>141</th>\n",
       "      <td>142</td>\n",
       "      <td>-0.650527</td>\n",
       "    </tr>\n",
       "    <tr>\n",
       "      <th>149</th>\n",
       "      <td>150</td>\n",
       "      <td>0.146476</td>\n",
       "    </tr>\n",
       "    <tr>\n",
       "      <th>181</th>\n",
       "      <td>182</td>\n",
       "      <td>0.937167</td>\n",
       "    </tr>\n",
       "    <tr>\n",
       "      <th>189</th>\n",
       "      <td>190</td>\n",
       "      <td>-0.478501</td>\n",
       "    </tr>\n",
       "  </tbody>\n",
       "</table>\n",
       "</div>"
      ],
      "text/plain": [
       "     car_ID  predicted_price\n",
       "4         5         0.421088\n",
       "29       30         0.400571\n",
       "31       32        -1.165029\n",
       "52       53        -1.029301\n",
       "53       54        -0.966172\n",
       "59       60        -0.271753\n",
       "62       63        -0.232298\n",
       "67       68         1.511641\n",
       "78       79        -0.873057\n",
       "84       85         0.582066\n",
       "87       88        -0.243345\n",
       "88       89        -0.243345\n",
       "104     105         0.810909\n",
       "123     124        -0.035020\n",
       "136     137         0.395836\n",
       "137     138         0.457387\n",
       "141     142        -0.650527\n",
       "149     150         0.146476\n",
       "181     182         0.937167\n",
       "189     190        -0.478501"
      ]
     },
     "execution_count": 53,
     "metadata": {},
     "output_type": "execute_result"
    }
   ],
   "source": [
    "resault_df = test_df[['car_ID','predicted_price']]\n",
    "resault_df.head(100)"
   ]
  }
 ],
 "metadata": {
  "celltoolbar": "Raw Cell Format",
  "direction": "ltr",
  "kernelspec": {
   "display_name": "Python 3",
   "language": "python",
   "name": "python3"
  },
  "language_info": {
   "codemirror_mode": {
    "name": "ipython",
    "version": 3
   },
   "file_extension": ".py",
   "mimetype": "text/x-python",
   "name": "python",
   "nbconvert_exporter": "python",
   "pygments_lexer": "ipython3",
   "version": "3.9.2"
  }
 },
 "nbformat": 4,
 "nbformat_minor": 2
}
